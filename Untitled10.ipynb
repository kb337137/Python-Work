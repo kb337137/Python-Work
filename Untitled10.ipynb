{
 "cells": [
  {
   "cell_type": "code",
   "execution_count": 1,
   "metadata": {},
   "outputs": [
    {
     "data": {
      "text/plain": [
       "8.0"
      ]
     },
     "execution_count": 1,
     "metadata": {},
     "output_type": "execute_result"
    }
   ],
   "source": [
    "float(22//3+3/3)"
   ]
  },
  {
   "cell_type": "code",
   "execution_count": 2,
   "metadata": {},
   "outputs": [
    {
     "data": {
      "text/plain": [
       "False"
      ]
     },
     "execution_count": 2,
     "metadata": {},
     "output_type": "execute_result"
    }
   ],
   "source": [
    "0.1 + 0.2 == 0.3"
   ]
  },
  {
   "cell_type": "code",
   "execution_count": 3,
   "metadata": {},
   "outputs": [
    {
     "data": {
      "text/plain": [
       "0.30000000000000004"
      ]
     },
     "execution_count": 3,
     "metadata": {},
     "output_type": "execute_result"
    }
   ],
   "source": [
    "0.1 + 0.2"
   ]
  },
  {
   "cell_type": "code",
   "execution_count": 7,
   "metadata": {},
   "outputs": [
    {
     "data": {
      "text/plain": [
       "4"
      ]
     },
     "execution_count": 7,
     "metadata": {},
     "output_type": "execute_result"
    }
   ],
   "source": [
    "x = 1\n",
    "x<<2"
   ]
  },
  {
   "cell_type": "code",
   "execution_count": 8,
   "metadata": {},
   "outputs": [
    {
     "data": {
      "text/plain": [
       "3"
      ]
     },
     "execution_count": 8,
     "metadata": {},
     "output_type": "execute_result"
    }
   ],
   "source": [
    "3*1**3\n"
   ]
  },
  {
   "cell_type": "code",
   "execution_count": 13,
   "metadata": {},
   "outputs": [
    {
     "ename": "SyntaxError",
     "evalue": "invalid token (<ipython-input-13-db8a25309358>, line 1)",
     "output_type": "error",
     "traceback": [
      "\u001b[1;36m  File \u001b[1;32m\"<ipython-input-13-db8a25309358>\"\u001b[1;36m, line \u001b[1;32m1\u001b[0m\n\u001b[1;33m    x = 039064\u001b[0m\n\u001b[1;37m             ^\u001b[0m\n\u001b[1;31mSyntaxError\u001b[0m\u001b[1;31m:\u001b[0m invalid token\n"
     ]
    }
   ],
   "source": [
    "x = 039064"
   ]
  },
  {
   "cell_type": "code",
   "execution_count": 17,
   "metadata": {},
   "outputs": [
    {
     "data": {
      "text/plain": [
       "0"
      ]
     },
     "execution_count": 17,
     "metadata": {},
     "output_type": "execute_result"
    }
   ],
   "source": [
    " round(-0.5)"
   ]
  },
  {
   "cell_type": "code",
   "execution_count": 18,
   "metadata": {},
   "outputs": [
    {
     "data": {
      "text/plain": [
       "{'__name__': '__main__',\n",
       " '__doc__': 'Automatically created module for IPython interactive environment',\n",
       " '__package__': None,\n",
       " '__loader__': None,\n",
       " '__spec__': None,\n",
       " '__builtin__': <module 'builtins' (built-in)>,\n",
       " '__builtins__': <module 'builtins' (built-in)>,\n",
       " '_ih': ['',\n",
       "  'float(22//3+3/3)',\n",
       "  '0.1 + 0.2 == 0.3',\n",
       "  '0.1 + 0.2',\n",
       "  'x<<2',\n",
       "  'x = 1\\nx<<2',\n",
       "  'x = 1\\nx<2',\n",
       "  'x = 1\\nx<<2',\n",
       "  '3*1**3',\n",
       "  'x = 03964',\n",
       "  'x = 03964',\n",
       "  'x = 3964',\n",
       "  'x = 39064',\n",
       "  'x = 039064',\n",
       "  'round(0.5) ',\n",
       "  'round(0.5) – round(-0.5)',\n",
       "  'round(0.5) round(-0.5)',\n",
       "  'round(-0.5)',\n",
       "  \"a='hello'\\nq=10\\nvars()\"],\n",
       " '_oh': {1: 8.0,\n",
       "  2: False,\n",
       "  3: 0.30000000000000004,\n",
       "  5: 4,\n",
       "  6: True,\n",
       "  7: 4,\n",
       "  8: 3,\n",
       "  14: 0,\n",
       "  17: 0},\n",
       " '_dh': ['E:\\\\PIAIC MY WORK'],\n",
       " 'In': ['',\n",
       "  'float(22//3+3/3)',\n",
       "  '0.1 + 0.2 == 0.3',\n",
       "  '0.1 + 0.2',\n",
       "  'x<<2',\n",
       "  'x = 1\\nx<<2',\n",
       "  'x = 1\\nx<2',\n",
       "  'x = 1\\nx<<2',\n",
       "  '3*1**3',\n",
       "  'x = 03964',\n",
       "  'x = 03964',\n",
       "  'x = 3964',\n",
       "  'x = 39064',\n",
       "  'x = 039064',\n",
       "  'round(0.5) ',\n",
       "  'round(0.5) – round(-0.5)',\n",
       "  'round(0.5) round(-0.5)',\n",
       "  'round(-0.5)',\n",
       "  \"a='hello'\\nq=10\\nvars()\"],\n",
       " 'Out': {1: 8.0,\n",
       "  2: False,\n",
       "  3: 0.30000000000000004,\n",
       "  5: 4,\n",
       "  6: True,\n",
       "  7: 4,\n",
       "  8: 3,\n",
       "  14: 0,\n",
       "  17: 0},\n",
       " 'get_ipython': <bound method InteractiveShell.get_ipython of <ipykernel.zmqshell.ZMQInteractiveShell object at 0x000001E2F56A5A58>>,\n",
       " 'exit': <IPython.core.autocall.ZMQExitAutocall at 0x1e2f2fcc208>,\n",
       " 'quit': <IPython.core.autocall.ZMQExitAutocall at 0x1e2f2fcc208>,\n",
       " '_': 0,\n",
       " '__': 0,\n",
       " '___': 3,\n",
       " '_i': ' round(-0.5)',\n",
       " '_ii': 'round(0.5) round(-0.5)',\n",
       " '_iii': 'round(0.5) – round(-0.5)',\n",
       " '_i1': 'float(22//3+3/3)',\n",
       " '_1': 8.0,\n",
       " '_i2': '0.1 + 0.2 == 0.3',\n",
       " '_2': False,\n",
       " '_i3': '0.1 + 0.2',\n",
       " '_3': 0.30000000000000004,\n",
       " '_i4': 'x<<2',\n",
       " '_i5': 'x = 1\\nx<<2',\n",
       " 'x': 39064,\n",
       " '_5': 4,\n",
       " '_i6': 'x = 1\\nx<2',\n",
       " '_6': True,\n",
       " '_i7': 'x = 1\\nx<<2',\n",
       " '_7': 4,\n",
       " '_i8': '3*1**3',\n",
       " '_8': 3,\n",
       " '_i9': 'x = 03964',\n",
       " '_i10': 'x = 03964',\n",
       " '_i11': 'x = 3964',\n",
       " '_i12': 'x = 39064',\n",
       " '_i13': 'x = 039064',\n",
       " '_i14': 'round(0.5) ',\n",
       " '_14': 0,\n",
       " '_i15': 'round(0.5) – round(-0.5)',\n",
       " '_i16': 'round(0.5) round(-0.5)',\n",
       " '_i17': ' round(-0.5)',\n",
       " '_17': 0,\n",
       " '_i18': \"a='hello'\\nq=10\\nvars()\",\n",
       " 'a': 'hello',\n",
       " 'q': 10}"
      ]
     },
     "execution_count": 18,
     "metadata": {},
     "output_type": "execute_result"
    }
   ],
   "source": [
    "a='hello'\n",
    "q=10\n",
    "vars()"
   ]
  },
  {
   "cell_type": "code",
   "execution_count": 19,
   "metadata": {},
   "outputs": [],
   "source": [
    "X= -122\n"
   ]
  },
  {
   "cell_type": "code",
   "execution_count": 20,
   "metadata": {},
   "outputs": [
    {
     "name": "stdout",
     "output_type": "stream",
     "text": [
      "-039064\n"
     ]
    }
   ],
   "source": [
    "print(\"-%06d\"%x)"
   ]
  },
  {
   "cell_type": "code",
   "execution_count": 21,
   "metadata": {},
   "outputs": [
    {
     "data": {
      "text/plain": [
       "'hello, world, universe'"
      ]
     },
     "execution_count": 21,
     "metadata": {},
     "output_type": "execute_result"
    }
   ],
   "source": [
    "t = '%(a)s, %(b)s, %(c)s'\n",
    "t % dict(a='hello', b='world', c='universe')"
   ]
  },
  {
   "cell_type": "code",
   "execution_count": 22,
   "metadata": {},
   "outputs": [
    {
     "data": {
      "text/plain": [
       "str"
      ]
     },
     "execution_count": 22,
     "metadata": {},
     "output_type": "execute_result"
    }
   ],
   "source": [
    "type(t)"
   ]
  },
  {
   "cell_type": "code",
   "execution_count": 24,
   "metadata": {},
   "outputs": [],
   "source": [
    "_s = \"samer\""
   ]
  },
  {
   "cell_type": "code",
   "execution_count": 25,
   "metadata": {},
   "outputs": [],
   "source": [
    "str1 = 'hello'"
   ]
  },
  {
   "cell_type": "code",
   "execution_count": 37,
   "metadata": {},
   "outputs": [
    {
     "data": {
      "text/plain": [
       "'hell'"
      ]
     },
     "execution_count": 37,
     "metadata": {},
     "output_type": "execute_result"
    }
   ],
   "source": [
    "str1[-5:-1]"
   ]
  },
  {
   "cell_type": "code",
   "execution_count": 38,
   "metadata": {},
   "outputs": [
    {
     "name": "stdout",
     "output_type": "stream",
     "text": [
      "0\n",
      "1\n",
      "2\n",
      "3\n"
     ]
    }
   ],
   "source": [
    "a = [0, 1, 2, 3]\n",
    "for a[0] in a:\n",
    "    print(a[0])"
   ]
  },
  {
   "cell_type": "code",
   "execution_count": 41,
   "metadata": {},
   "outputs": [],
   "source": [
    "for i in range(0):\n",
    "    print(i)"
   ]
  },
  {
   "cell_type": "code",
   "execution_count": 47,
   "metadata": {},
   "outputs": [
    {
     "name": "stdout",
     "output_type": "stream",
     "text": [
      "0\n",
      "1\n",
      "2\n",
      "0\n"
     ]
    }
   ],
   "source": [
    "i = 0\n",
    "while i < 3:\n",
    "    print(i)\n",
    "    i += 1\n",
    "    \n",
    "else:\n",
    "    print(0)"
   ]
  },
  {
   "cell_type": "code",
   "execution_count": null,
   "metadata": {},
   "outputs": [],
   "source": []
  }
 ],
 "metadata": {
  "kernelspec": {
   "display_name": "Python 3",
   "language": "python",
   "name": "python3"
  },
  "language_info": {
   "codemirror_mode": {
    "name": "ipython",
    "version": 3
   },
   "file_extension": ".py",
   "mimetype": "text/x-python",
   "name": "python",
   "nbconvert_exporter": "python",
   "pygments_lexer": "ipython3",
   "version": "3.7.3"
  }
 },
 "nbformat": 4,
 "nbformat_minor": 2
}
