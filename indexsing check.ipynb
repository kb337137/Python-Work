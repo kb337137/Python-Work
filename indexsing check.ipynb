{
 "cells": [
  {
   "cell_type": "code",
   "execution_count": 7,
   "metadata": {},
   "outputs": [
    {
     "name": "stdout",
     "output_type": "stream",
     "text": [
      "Enter YOur ROutine In this List : Sleep\n",
      "is present in there :  ['Sleep', 'good morning', 'aptech', 'then home', 'Sleep', 'Then Work Start']\n",
      "is select in this index :  ['Sleep']\n"
     ]
    }
   ],
   "source": [
    "list1 = [\"Sleep\",\"good morning\",\"aptech\",\"then home\",\"Sleep\",\"Then Work Start\"]\n",
    "routine = input(\"Enter YOur ROutine In this List : \" )\n",
    "emplsit =[]\n",
    "if routine in list1:\n",
    "        tasks=list1.index(routine)\n",
    "        list1.pop(tasks)\n",
    "        emplsit.append(routine)\n",
    "        print(f'is present in there : ',list1)\n",
    "        print(f'is select in this index : ',emplsit)\n",
    "        "
   ]
  },
  {
   "cell_type": "code",
   "execution_count": null,
   "metadata": {},
   "outputs": [],
   "source": []
  }
 ],
 "metadata": {
  "kernelspec": {
   "display_name": "Python 3",
   "language": "python",
   "name": "python3"
  },
  "language_info": {
   "codemirror_mode": {
    "name": "ipython",
    "version": 3
   },
   "file_extension": ".py",
   "mimetype": "text/x-python",
   "name": "python",
   "nbconvert_exporter": "python",
   "pygments_lexer": "ipython3",
   "version": "3.7.3"
  }
 },
 "nbformat": 4,
 "nbformat_minor": 2
}
