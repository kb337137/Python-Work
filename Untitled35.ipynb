{
 "cells": [
  {
   "cell_type": "code",
   "execution_count": 3,
   "metadata": {},
   "outputs": [
    {
     "name": "stdout",
     "output_type": "stream",
     "text": [
      "ENter a Room :abdullah\n",
      "Rooms Does not Exits\n"
     ]
    }
   ],
   "source": [
    "rooms = {1:\"Foyer\",2:\"Conference Room\"}\n",
    "room = input(\"ENter a Room :\")\n",
    "if not room in rooms:\n",
    "    print(\"Rooms Does not Exits\")\n",
    "else:\n",
    "    print(\"Room are \"+rooms[room])"
   ]
  },
  {
   "cell_type": "code",
   "execution_count": null,
   "metadata": {},
   "outputs": [],
   "source": []
  }
 ],
 "metadata": {
  "kernelspec": {
   "display_name": "Python 3",
   "language": "python",
   "name": "python3"
  },
  "language_info": {
   "codemirror_mode": {
    "name": "ipython",
    "version": 3
   },
   "file_extension": ".py",
   "mimetype": "text/x-python",
   "name": "python",
   "nbconvert_exporter": "python",
   "pygments_lexer": "ipython3",
   "version": "3.7.3"
  }
 },
 "nbformat": 4,
 "nbformat_minor": 2
}
