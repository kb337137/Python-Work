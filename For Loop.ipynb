{
 "cells": [
  {
   "cell_type": "code",
   "execution_count": null,
   "metadata": {},
   "outputs": [],
   "source": [
    "ya i jo han wo 0 sa start ho ga or range 10  tak han mtlb 9 tak execute ho ga"
   ]
  },
  {
   "cell_type": "code",
   "execution_count": 2,
   "metadata": {
    "scrolled": false
   },
   "outputs": [
    {
     "name": "stdout",
     "output_type": "stream",
     "text": [
      "0 nasir\n",
      "1 nasir\n",
      "2 nasir\n",
      "3 nasir\n",
      "4 nasir\n",
      "5 nasir\n",
      "6 nasir\n",
      "7 nasir\n",
      "8 nasir\n",
      "9 nasir\n"
     ]
    }
   ],
   "source": [
    "for i in range(10):#ak index pechay say execute karay ga \n",
    "    print(i,\"nasir\")"
   ]
  },
  {
   "cell_type": "code",
   "execution_count": null,
   "metadata": {},
   "outputs": [],
   "source": []
  },
  {
   "cell_type": "code",
   "execution_count": null,
   "metadata": {},
   "outputs": [],
   "source": []
  },
  {
   "cell_type": "code",
   "execution_count": 5,
   "metadata": {},
   "outputs": [
    {
     "name": "stdout",
     "output_type": "stream",
     "text": [
      "10\n",
      "9\n",
      "8\n",
      "7\n",
      "6\n",
      "5\n",
      "4\n",
      "3\n",
      "2\n",
      "1\n",
      "0\n"
     ]
    }
   ],
   "source": [
    "for i in range(10,-1,-1):\n",
    "    print(i)\n"
   ]
  },
  {
   "cell_type": "markdown",
   "metadata": {},
   "source": [
    "# Nested For Loop"
   ]
  },
  {
   "cell_type": "code",
   "execution_count": 8,
   "metadata": {},
   "outputs": [
    {
     "name": "stdout",
     "output_type": "stream",
     "text": [
      "Inner Loop Begin :\n",
      "0 K\n",
      "0 a\n",
      "0 r\n",
      "0 a\n",
      "0 c\n",
      "0 h\n",
      "0 i\n",
      "Inner Loop Begin :\n",
      "1 K\n",
      "1 a\n",
      "1 r\n",
      "1 a\n",
      "1 c\n",
      "1 h\n",
      "1 i\n",
      "Inner Loop Begin :\n",
      "2 K\n",
      "2 a\n",
      "2 r\n",
      "2 a\n",
      "2 c\n",
      "2 h\n",
      "2 i\n",
      "Inner Loop Begin :\n",
      "3 K\n",
      "3 a\n",
      "3 r\n",
      "3 a\n",
      "3 c\n",
      "3 h\n",
      "3 i\n",
      "Inner Loop Begin :\n",
      "4 K\n",
      "4 a\n",
      "4 r\n",
      "4 a\n",
      "4 c\n",
      "4 h\n",
      "4 i\n"
     ]
    }
   ],
   "source": [
    "for i in range(5):# ya for loop ak bar chlay ga tu inner loop jo han us ak bar ma complete execute ho ga\n",
    "    print(\"Inner Loop Begin :\")\n",
    "    for char in \"Karachi\":\n",
    "        print(i,char)"
   ]
  },
  {
   "cell_type": "code",
   "execution_count": 10,
   "metadata": {},
   "outputs": [
    {
     "name": "stdout",
     "output_type": "stream",
     "text": [
      "Enter a Table Number :5\n",
      "\n",
      "2 * 1 = 2\n",
      "2 * 2 = 4\n",
      "2 * 3 = 6\n",
      "2 * 4 = 8\n",
      "2 * 5 = 10\n",
      "2 * 6 = 12\n",
      "2 * 7 = 14\n",
      "2 * 8 = 16\n",
      "2 * 9 = 18\n",
      "2 * 10 = 20\n",
      "\n",
      "3 * 1 = 3\n",
      "3 * 2 = 6\n",
      "3 * 3 = 9\n",
      "3 * 4 = 12\n",
      "3 * 5 = 15\n",
      "3 * 6 = 18\n",
      "3 * 7 = 21\n",
      "3 * 8 = 24\n",
      "3 * 9 = 27\n",
      "3 * 10 = 30\n",
      "\n",
      "4 * 1 = 4\n",
      "4 * 2 = 8\n",
      "4 * 3 = 12\n",
      "4 * 4 = 16\n",
      "4 * 5 = 20\n",
      "4 * 6 = 24\n",
      "4 * 7 = 28\n",
      "4 * 8 = 32\n",
      "4 * 9 = 36\n",
      "4 * 10 = 40\n",
      "\n",
      "5 * 1 = 5\n",
      "5 * 2 = 10\n",
      "5 * 3 = 15\n",
      "5 * 4 = 20\n",
      "5 * 5 = 25\n",
      "5 * 6 = 30\n",
      "5 * 7 = 35\n",
      "5 * 8 = 40\n",
      "5 * 9 = 45\n",
      "5 * 10 = 50\n"
     ]
    }
   ],
   "source": [
    "tables = int(input(\"Enter a Table Number :\"))\n",
    "for table in range(2,tables+1):\n",
    "    print()\n",
    "    for num in range(1,11):\n",
    "        print(f\"{table} * {num} = {table*num}\")"
   ]
  },
  {
   "cell_type": "code",
   "execution_count": 1,
   "metadata": {},
   "outputs": [
    {
     "name": "stdout",
     "output_type": "stream",
     "text": [
      "1\n",
      "2\n",
      "3\n",
      "4\n",
      "5\n",
      "6\n",
      "7\n",
      "8\n",
      "9\n"
     ]
    }
   ],
   "source": [
    "for i in range(1,10):\n",
    "    print(i)"
   ]
  },
  {
   "cell_type": "code",
   "execution_count": null,
   "metadata": {},
   "outputs": [],
   "source": []
  }
 ],
 "metadata": {
  "kernelspec": {
   "display_name": "Python 3",
   "language": "python",
   "name": "python3"
  },
  "language_info": {
   "codemirror_mode": {
    "name": "ipython",
    "version": 3
   },
   "file_extension": ".py",
   "mimetype": "text/x-python",
   "name": "python",
   "nbconvert_exporter": "python",
   "pygments_lexer": "ipython3",
   "version": "3.7.3"
  }
 },
 "nbformat": 4,
 "nbformat_minor": 2
}
