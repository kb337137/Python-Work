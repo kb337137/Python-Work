{
 "cells": [
  {
   "cell_type": "code",
   "execution_count": 1,
   "metadata": {},
   "outputs": [],
   "source": [
    "fruits = [\"Apple\",\"Mango\",\"banna\",\"orange\"]"
   ]
  },
  {
   "cell_type": "code",
   "execution_count": 11,
   "metadata": {},
   "outputs": [],
   "source": [
    "fruits .extend([\"buleberry\",\"chery\",\"bana\",\"AMA\",\"da\",\"sadf\",\"dafsAS\"])"
   ]
  },
  {
   "cell_type": "code",
   "execution_count": 33,
   "metadata": {},
   "outputs": [
    {
     "name": "stdout",
     "output_type": "stream",
     "text": [
      "['Apple', 'Mango', 'banna', 'orange', 'buleberry', 'chery', 'bana', 'buleberry', 'chery', 'bana', 'AMA', 'buleberry', 'chery', 'bana', 'AMA', 'da', 'buleberry', 'chery', 'bana', 'AMA', 'da', 'sadf', 'buleberry', 'chery', 'bana', 'AMA', 'da', 'sadf', 'dafsAS']\n"
     ]
    }
   ],
   "source": [
    "print(fruits)"
   ]
  },
  {
   "cell_type": "code",
   "execution_count": null,
   "metadata": {},
   "outputs": [],
   "source": []
  },
  {
   "cell_type": "code",
   "execution_count": 35,
   "metadata": {},
   "outputs": [],
   "source": [
    "s = \"safgsa\",\"sad\""
   ]
  },
  {
   "cell_type": "code",
   "execution_count": 46,
   "metadata": {},
   "outputs": [
    {
     "name": "stdout",
     "output_type": "stream",
     "text": [
      "('safgsa', 'sad')\n"
     ]
    }
   ],
   "source": [
    "print(s )"
   ]
  },
  {
   "cell_type": "code",
   "execution_count": 47,
   "metadata": {},
   "outputs": [
    {
     "data": {
      "text/plain": [
       "('safgsa', 'sad')"
      ]
     },
     "execution_count": 47,
     "metadata": {},
     "output_type": "execute_result"
    }
   ],
   "source": [
    "s"
   ]
  },
  {
   "cell_type": "code",
   "execution_count": 49,
   "metadata": {},
   "outputs": [
    {
     "data": {
      "text/plain": [
       "1"
      ]
     },
     "execution_count": 49,
     "metadata": {},
     "output_type": "execute_result"
    }
   ],
   "source": [
    "fruits.count(\"orange\")#ya list ma check karyn kitni dafa han orange"
   ]
  },
  {
   "cell_type": "code",
   "execution_count": 52,
   "metadata": {},
   "outputs": [
    {
     "data": {
      "text/plain": [
       "3"
      ]
     },
     "execution_count": 52,
     "metadata": {},
     "output_type": "execute_result"
    }
   ],
   "source": [
    "fruits.index(\"orange\")#ya batay ga kae meriii list ma konsi index par han"
   ]
  },
  {
   "cell_type": "code",
   "execution_count": null,
   "metadata": {},
   "outputs": [],
   "source": []
  },
  {
   "cell_type": "code",
   "execution_count": 54,
   "metadata": {},
   "outputs": [],
   "source": [
    "fruits2 = fruits.copy()  #by value"
   ]
  },
  {
   "cell_type": "code",
   "execution_count": 57,
   "metadata": {},
   "outputs": [],
   "source": [
    "fruits.append(\"adasdf\")"
   ]
  },
  {
   "cell_type": "code",
   "execution_count": 56,
   "metadata": {},
   "outputs": [],
   "source": [
    "fruits3 = fruits #ya by reference han ya copy nhi han"
   ]
  },
  {
   "cell_type": "code",
   "execution_count": 62,
   "metadata": {},
   "outputs": [
    {
     "data": {
      "text/plain": [
       "['Apple',\n",
       " 'Mango',\n",
       " 'banna',\n",
       " 'orange',\n",
       " 'buleberry',\n",
       " 'chery',\n",
       " 'bana',\n",
       " 'buleberry',\n",
       " 'chery',\n",
       " 'bana',\n",
       " 'AMA',\n",
       " 'buleberry',\n",
       " 'chery',\n",
       " 'bana',\n",
       " 'AMA',\n",
       " 'da',\n",
       " 'buleberry',\n",
       " 'chery',\n",
       " 'bana',\n",
       " 'AMA',\n",
       " 'da',\n",
       " 'sadf',\n",
       " 'buleberry',\n",
       " 'chery',\n",
       " 'bana',\n",
       " 'AMA',\n",
       " 'da',\n",
       " 'sadf',\n",
       " 'dafsAS',\n",
       " 'adasdf']"
      ]
     },
     "execution_count": 62,
     "metadata": {},
     "output_type": "execute_result"
    }
   ],
   "source": [
    "fruits3"
   ]
  },
  {
   "cell_type": "code",
   "execution_count": 63,
   "metadata": {},
   "outputs": [
    {
     "data": {
      "text/plain": [
       "['Apple',\n",
       " 'Mango',\n",
       " 'banna',\n",
       " 'orange',\n",
       " 'buleberry',\n",
       " 'chery',\n",
       " 'bana',\n",
       " 'buleberry',\n",
       " 'chery',\n",
       " 'bana',\n",
       " 'AMA',\n",
       " 'buleberry',\n",
       " 'chery',\n",
       " 'bana',\n",
       " 'AMA',\n",
       " 'da',\n",
       " 'buleberry',\n",
       " 'chery',\n",
       " 'bana',\n",
       " 'AMA',\n",
       " 'da',\n",
       " 'sadf',\n",
       " 'buleberry',\n",
       " 'chery',\n",
       " 'bana',\n",
       " 'AMA',\n",
       " 'da',\n",
       " 'sadf',\n",
       " 'dafsAS',\n",
       " 'adasdf']"
      ]
     },
     "execution_count": 63,
     "metadata": {},
     "output_type": "execute_result"
    }
   ],
   "source": [
    "fruits3"
   ]
  },
  {
   "cell_type": "code",
   "execution_count": 64,
   "metadata": {},
   "outputs": [],
   "source": [
    "del fruits2[5] # ya index pochta han "
   ]
  },
  {
   "cell_type": "code",
   "execution_count": 65,
   "metadata": {},
   "outputs": [
    {
     "data": {
      "text/plain": [
       "['Apple',\n",
       " 'Mango',\n",
       " 'banna',\n",
       " 'orange',\n",
       " 'buleberry',\n",
       " 'bana',\n",
       " 'buleberry',\n",
       " 'chery',\n",
       " 'bana',\n",
       " 'AMA',\n",
       " 'buleberry',\n",
       " 'chery',\n",
       " 'bana',\n",
       " 'AMA',\n",
       " 'da',\n",
       " 'buleberry',\n",
       " 'chery',\n",
       " 'bana',\n",
       " 'AMA',\n",
       " 'da',\n",
       " 'sadf',\n",
       " 'buleberry',\n",
       " 'chery',\n",
       " 'bana',\n",
       " 'AMA',\n",
       " 'da',\n",
       " 'sadf',\n",
       " 'dafsAS']"
      ]
     },
     "execution_count": 65,
     "metadata": {},
     "output_type": "execute_result"
    }
   ],
   "source": [
    "fruits2"
   ]
  },
  {
   "cell_type": "code",
   "execution_count": 68,
   "metadata": {},
   "outputs": [],
   "source": [
    "fruits.remove(\"Apple\")#ya element pochta han"
   ]
  },
  {
   "cell_type": "code",
   "execution_count": 69,
   "metadata": {},
   "outputs": [
    {
     "data": {
      "text/plain": [
       "['Mango',\n",
       " 'banna',\n",
       " 'orange',\n",
       " 'buleberry',\n",
       " 'chery',\n",
       " 'bana',\n",
       " 'buleberry',\n",
       " 'chery',\n",
       " 'bana',\n",
       " 'buleberry',\n",
       " 'chery',\n",
       " 'bana',\n",
       " 'AMA',\n",
       " 'da',\n",
       " 'buleberry',\n",
       " 'chery',\n",
       " 'bana',\n",
       " 'AMA',\n",
       " 'da',\n",
       " 'sadf',\n",
       " 'buleberry',\n",
       " 'chery',\n",
       " 'bana',\n",
       " 'AMA',\n",
       " 'da',\n",
       " 'sadf',\n",
       " 'dafsAS',\n",
       " 'adasdf']"
      ]
     },
     "execution_count": 69,
     "metadata": {},
     "output_type": "execute_result"
    }
   ],
   "source": [
    "fruits"
   ]
  },
  {
   "cell_type": "code",
   "execution_count": 70,
   "metadata": {},
   "outputs": [],
   "source": [
    "#agarr ma ya karna chaata ho kae jo value ma remove kar raha ho wo kaheen store ho jay tu pop use karo ga"
   ]
  },
  {
   "cell_type": "code",
   "execution_count": 71,
   "metadata": {},
   "outputs": [],
   "source": [
    "cities = [\"karachi\",\"multan\",\"lahore\",\"qutta\"]"
   ]
  },
  {
   "cell_type": "code",
   "execution_count": 72,
   "metadata": {},
   "outputs": [],
   "source": [
    "poppedcities=cities.pop()\n"
   ]
  },
  {
   "cell_type": "code",
   "execution_count": 73,
   "metadata": {},
   "outputs": [
    {
     "name": "stdout",
     "output_type": "stream",
     "text": [
      "the cites from pop : qutta\n",
      "the remaing city is : ['karachi', 'multan', 'lahore']\n"
     ]
    }
   ],
   "source": [
    "print(f\"the cites from pop : {poppedcities}\")\n",
    "print(f\"the remaing city is : {cities}\")"
   ]
  },
  {
   "cell_type": "code",
   "execution_count": 74,
   "metadata": {},
   "outputs": [],
   "source": [
    "cities.sort()"
   ]
  },
  {
   "cell_type": "code",
   "execution_count": 75,
   "metadata": {},
   "outputs": [
    {
     "data": {
      "text/plain": [
       "['karachi', 'lahore', 'multan']"
      ]
     },
     "execution_count": 75,
     "metadata": {},
     "output_type": "execute_result"
    }
   ],
   "source": [
    "cities#ya assanding order ma sort kara han"
   ]
  },
  {
   "cell_type": "code",
   "execution_count": 76,
   "metadata": {},
   "outputs": [],
   "source": [
    "cities.sort(reverse=True)"
   ]
  },
  {
   "cell_type": "code",
   "execution_count": 78,
   "metadata": {},
   "outputs": [
    {
     "data": {
      "text/plain": [
       "['multan', 'lahore', 'karachi']"
      ]
     },
     "execution_count": 78,
     "metadata": {},
     "output_type": "execute_result"
    }
   ],
   "source": [
    "cities#desdaning order ma han"
   ]
  },
  {
   "cell_type": "code",
   "execution_count": 79,
   "metadata": {},
   "outputs": [],
   "source": [
    "cities.reverse()"
   ]
  },
  {
   "cell_type": "code",
   "execution_count": 92,
   "metadata": {},
   "outputs": [],
   "source": [
    "cities.append(\"sa\")"
   ]
  },
  {
   "cell_type": "code",
   "execution_count": 87,
   "metadata": {},
   "outputs": [
    {
     "data": {
      "text/plain": [
       "True"
      ]
     },
     "execution_count": 87,
     "metadata": {},
     "output_type": "execute_result"
    }
   ],
   "source": [
    "\"karachi\" in cities"
   ]
  },
  {
   "cell_type": "code",
   "execution_count": 94,
   "metadata": {},
   "outputs": [
    {
     "data": {
      "text/plain": [
       "['karachi', 'lahore', 'multan', 'sa', 'sa', 'sa']"
      ]
     },
     "execution_count": 94,
     "metadata": {},
     "output_type": "execute_result"
    }
   ],
   "source": [
    "cities"
   ]
  },
  {
   "cell_type": "markdown",
   "metadata": {},
   "source": [
    "# list Slicing "
   ]
  },
  {
   "cell_type": "code",
   "execution_count": 93,
   "metadata": {},
   "outputs": [
    {
     "name": "stdout",
     "output_type": "stream",
     "text": [
      "['karachi', 'lahore', 'multan', 'sa']\n"
     ]
    }
   ],
   "source": [
    "print(cities[0:4])#ya slicing han is ma 0 jo han yaha sa start han mtlb inclusive or 4 jo han wo exclusive han 4 sa ak index phlay wali value prnt karay ga"
   ]
  },
  {
   "cell_type": "code",
   "execution_count": 95,
   "metadata": {},
   "outputs": [],
   "source": [
    "cities = [\"Sameer\",\"Abdullah\",\"Razzaq\",\"Khan\",\"bhai\",\"khan\"]"
   ]
  },
  {
   "cell_type": "code",
   "execution_count": 101,
   "metadata": {},
   "outputs": [
    {
     "name": "stdout",
     "output_type": "stream",
     "text": [
      "Sameer\n",
      "Sameer\n"
     ]
    }
   ],
   "source": [
    "print(cities[0])\n",
    "print(cities[-6])"
   ]
  },
  {
   "cell_type": "code",
   "execution_count": null,
   "metadata": {},
   "outputs": [],
   "source": []
  },
  {
   "cell_type": "code",
   "execution_count": null,
   "metadata": {},
   "outputs": [],
   "source": []
  }
 ],
 "metadata": {
  "kernelspec": {
   "display_name": "Python 3",
   "language": "python",
   "name": "python3"
  },
  "language_info": {
   "codemirror_mode": {
    "name": "ipython",
    "version": 3
   },
   "file_extension": ".py",
   "mimetype": "text/x-python",
   "name": "python",
   "nbconvert_exporter": "python",
   "pygments_lexer": "ipython3",
   "version": "3.7.3"
  }
 },
 "nbformat": 4,
 "nbformat_minor": 2
}
