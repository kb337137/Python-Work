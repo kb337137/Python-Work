{
 "cells": [
  {
   "cell_type": "code",
   "execution_count": null,
   "metadata": {},
   "outputs": [],
   "source": [
    "for a in range(10):\n",
    "    print(a)"
   ]
  },
  {
   "cell_type": "code",
   "execution_count": null,
   "metadata": {},
   "outputs": [],
   "source": [
    "[i for i in range(1,11)] \n",
    "    "
   ]
  },
  {
   "cell_type": "code",
   "execution_count": null,
   "metadata": {},
   "outputs": [],
   "source": [
    "table = 2\n",
    "while(table < 10):\n",
    "    print('TABLE OF :',table)\n",
    "    multi = 1\n",
    "    while(multi <= 10):\n",
    "        print(end =\" table , \"*\" , multi , \"=\",table*multi \")\n",
    "        multi += 1\n",
    "    print(end = \" \")\n",
    "    table += 1\n",
    "    "
   ]
  },
  {
   "cell_type": "code",
   "execution_count": null,
   "metadata": {},
   "outputs": [],
   "source": [
    "for x in range(1,10):\n",
    "    print(x)"
   ]
  },
  {
   "cell_type": "code",
   "execution_count": null,
   "metadata": {},
   "outputs": [],
   "source": [
    "print(*range(1,11))"
   ]
  },
  {
   "cell_type": "code",
   "execution_count": null,
   "metadata": {},
   "outputs": [],
   "source": [
    "for i in range(20):\n",
    "    if i == 10:\n",
    "        print(i,end = \" \")\n",
    "    \n",
    "    print(i)\n",
    "\n",
    "    "
   ]
  },
  {
   "cell_type": "code",
   "execution_count": 8,
   "metadata": {},
   "outputs": [
    {
     "name": "stdout",
     "output_type": "stream",
     "text": [
      "11 12 13 14 15 16 17 18 19 11 12 13 14 15 16 17 18 19 11 12 13 14 15 16 17 18 19 11 12 13 14 15 16 17 18 19 11 12 13 14 15 16 17 18 19 11 12 13 14 15 16 17 18 19 11 12 13 14 15 16 17 18 19 11 12 13 14 15 16 17 18 19 11 12 13 14 15 16 17 18 19 "
     ]
    }
   ],
   "source": [
    "a = 1\n",
    "while(a < 10):\n",
    "    b = 11\n",
    "    while(b < 20): \n",
    "        print(b ,end = \" \")\n",
    "        b +=1\n",
    "    a += 1"
   ]
  },
  {
   "cell_type": "code",
   "execution_count": 17,
   "metadata": {},
   "outputs": [
    {
     "name": "stdout",
     "output_type": "stream",
     "text": [
      "0 \n",
      "\n",
      "10 11 12 13 14 15 16 17 18 19 1 \n",
      "\n",
      "10 11 12 13 14 15 16 17 18 19 2 \n",
      "\n",
      "10 11 12 13 14 15 16 17 18 19 3 \n",
      "\n",
      "10 11 12 13 14 15 16 17 18 19 4 \n",
      "\n",
      "10 11 12 13 14 15 16 17 18 19 5 \n",
      "\n",
      "10 11 12 13 14 15 16 17 18 19 6 \n",
      "\n",
      "10 11 12 13 14 15 16 17 18 19 7 \n",
      "\n",
      "10 11 12 13 14 15 16 17 18 19 8 \n",
      "\n",
      "10 11 12 13 14 15 16 17 18 19 9 \n",
      "\n",
      "10 11 12 13 14 15 16 17 18 19 "
     ]
    }
   ],
   "source": [
    "for i in range(10):\n",
    "    print(i,\"\\n\")\n",
    "    for j in range(10,20):\n",
    "        print(j,end = \" \")"
   ]
  },
  {
   "cell_type": "code",
   "execution_count": null,
   "metadata": {},
   "outputs": [],
   "source": []
  }
 ],
 "metadata": {
  "kernelspec": {
   "display_name": "Python 3",
   "language": "python",
   "name": "python3"
  },
  "language_info": {
   "codemirror_mode": {
    "name": "ipython",
    "version": 3
   },
   "file_extension": ".py",
   "mimetype": "text/x-python",
   "name": "python",
   "nbconvert_exporter": "python",
   "pygments_lexer": "ipython3",
   "version": "3.7.3"
  }
 },
 "nbformat": 4,
 "nbformat_minor": 2
}
