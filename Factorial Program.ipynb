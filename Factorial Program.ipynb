{
 "cells": [
  {
   "cell_type": "code",
   "execution_count": 1,
   "metadata": {},
   "outputs": [
    {
     "name": "stdout",
     "output_type": "stream",
     "text": [
      "The factorial of 7 is 5040\n"
     ]
    }
   ],
   "source": [
    "num = 7\n",
    "factorial = 1\n",
    "\n",
    "if num < 0:\n",
    "    print('Sorry The Negative Number Not factorial')\n",
    "elif num == 0:\n",
    "    print(\"The factorial of 0 is 1\")\n",
    "else:\n",
    "    for i in range(1,num + 1):\n",
    "        factorial = factorial*i\n",
    "    print(\"The factorial of\",num,\"is\",factorial)"
   ]
  },
  {
   "cell_type": "code",
   "execution_count": 4,
   "metadata": {},
   "outputs": [
    {
     "name": "stdout",
     "output_type": "stream",
     "text": [
      "Enter Any Number OF Factorial :2\n",
      "The factorial of 2 is 2\n",
      "Enter Any Number other Factorial7\n",
      "The factorial of 7 is 5040\n"
     ]
    }
   ],
   "source": [
    "number = int(input(\"Enter Any Number OF Factorial :\")) \n",
    "\n",
    "factorial = 1\n",
    "factorials = 1\n",
    "if number < 0:\n",
    "    print('Sorry The Negative Number Not factorial')\n",
    "elif number == 0:\n",
    "    print(\"The factorial of 0 is 1\")\n",
    "else:\n",
    "    for i in range(1,number + 1 ):\n",
    "        factorial = factorial * i\n",
    "    print(\"The factorial of\",number,\"is\",factorial)\n",
    "num = int(input(\"Enter Any Number other Factorial\"))\n",
    "if num == 0:\n",
    "    factorials = True\n",
    "else:\n",
    "    for f in range(1,num+1):\n",
    "        factorials = factorials * f\n",
    "    print(\"The factorial of\",num,\"is\",factorials)"
   ]
  },
  {
   "cell_type": "code",
   "execution_count": 10,
   "metadata": {},
   "outputs": [
    {
     "name": "stdout",
     "output_type": "stream",
     "text": [
      "ENter any number7\n",
      "The factorial of 7 is 5040\n"
     ]
    }
   ],
   "source": [
    "emplist = []\n",
    "factorial = 1\n",
    "numb = int(input(\"ENter any number\"))\n",
    "if numb < 0:\n",
    "    print('Sorry The Negative Number Not factorial')\n",
    "elif numb == 0:\n",
    "    print(\"The factorial of 0 is 1\")\n",
    "else:\n",
    "    for i in range(1,numb + 1):\n",
    "        factorial = factorial * i\n",
    "    print(\"The factorial of\",numb,\"is\",factorial)\n",
    "        \n"
   ]
  },
  {
   "cell_type": "code",
   "execution_count": 13,
   "metadata": {},
   "outputs": [
    {
     "name": "stdout",
     "output_type": "stream",
     "text": [
      "1\n",
      "2\n",
      "3\n",
      "4\n",
      "5\n",
      "6\n",
      "7\n",
      "8\n",
      "9\n"
     ]
    }
   ],
   "source": [
    "for i in range(1,10):\n",
    "    print(i)"
   ]
  },
  {
   "cell_type": "code",
   "execution_count": 3,
   "metadata": {},
   "outputs": [
    {
     "name": "stdout",
     "output_type": "stream",
     "text": [
      "Enter any number1\n",
      "THe number is 1 factorial is : 1\n",
      "THe number is 2 factorial is : 2\n",
      "THe number is 3 factorial is : 6\n",
      "THe number is 4 factorial is : 24\n",
      "THe number is 5 factorial is : 120\n",
      "THe number is 6 factorial is : 720\n",
      "THe number is 7 factorial is : 5040\n",
      "THe number is 8 factorial is : 40320\n",
      "THe number is 9 factorial is : 362880\n"
     ]
    }
   ],
   "source": [
    "number = int(input(\"Enter any number\"))\n",
    "factorial = 1\n",
    "for j in range(number,10):\n",
    "    factorial = factorial * j\n",
    "    print(\"THe number is\",j,\"factorial is :\",factorial)"
   ]
  },
  {
   "cell_type": "code",
   "execution_count": null,
   "metadata": {},
   "outputs": [],
   "source": []
  }
 ],
 "metadata": {
  "kernelspec": {
   "display_name": "Python 3",
   "language": "python",
   "name": "python3"
  },
  "language_info": {
   "codemirror_mode": {
    "name": "ipython",
    "version": 3
   },
   "file_extension": ".py",
   "mimetype": "text/x-python",
   "name": "python",
   "nbconvert_exporter": "python",
   "pygments_lexer": "ipython3",
   "version": "3.7.3"
  }
 },
 "nbformat": 4,
 "nbformat_minor": 2
}
