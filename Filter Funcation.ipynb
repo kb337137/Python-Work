{
 "cells": [
  {
   "cell_type": "code",
   "execution_count": 22,
   "metadata": {},
   "outputs": [],
   "source": [
    "\n",
    "\n",
    "         #       0      1         2       3     4       5       6      7        8     9          10      11     12     13     14                  \n",
    "employee = [\"sameer\",\"Abdullah\",\"Khan\",\"bhai\",\"kash\",\"Sameer\",\"Khn\",\"Sameer\",\"khan\",\"Bhai\",\"Interter\",\"Khan\",\"Saad\",\"Khan\",\"bhai\"]\n",
    "\n",
    "          #    15        14        13      12       11       10       9       8       7      6       5    4       3     2      1"
   ]
  },
  {
   "cell_type": "code",
   "execution_count": 28,
   "metadata": {},
   "outputs": [
    {
     "name": "stdout",
     "output_type": "stream",
     "text": [
      "['sameer', 'Abdullah', 'Khan', 'bhai', 'kash', 'Sameer', 'Khn', 'Sameer', 'khan', 'Bhai', 'Interter', 'Khan', 'Saad', 'Khan']\n"
     ]
    }
   ],
   "source": [
    "print(employee[-15:-1])"
   ]
  },
  {
   "cell_type": "code",
   "execution_count": 30,
   "metadata": {},
   "outputs": [
    {
     "data": {
      "text/plain": [
       "['sameer',\n",
       " 'Abdullah',\n",
       " 'Khan',\n",
       " 'bhai',\n",
       " 'kash',\n",
       " 'Sameer',\n",
       " 'Khn',\n",
       " 'Sameer',\n",
       " 'khan',\n",
       " 'Bhai']"
      ]
     },
     "execution_count": 30,
     "metadata": {},
     "output_type": "execute_result"
    }
   ],
   "source": [
    "employee[:-5]"
   ]
  },
  {
   "cell_type": "code",
   "execution_count": 20,
   "metadata": {},
   "outputs": [
    {
     "data": {
      "text/plain": [
       "[-5]"
      ]
     },
     "execution_count": 20,
     "metadata": {},
     "output_type": "execute_result"
    }
   ],
   "source": [
    "employee"
   ]
  },
  {
   "cell_type": "code",
   "execution_count": 31,
   "metadata": {},
   "outputs": [
    {
     "data": {
      "text/plain": [
       "['sameer',\n",
       " 'Abdullah',\n",
       " 'Khan',\n",
       " 'bhai',\n",
       " 'kash',\n",
       " 'Sameer',\n",
       " 'Khn',\n",
       " 'Sameer',\n",
       " 'khan',\n",
       " 'Bhai']"
      ]
     },
     "execution_count": 31,
     "metadata": {},
     "output_type": "execute_result"
    }
   ],
   "source": [
    "employee[0:-5]"
   ]
  },
  {
   "cell_type": "code",
   "execution_count": 1,
   "metadata": {},
   "outputs": [],
   "source": [
    "def is_even(x):\n",
    "    return x%2 == 0\n",
    "    \n",
    "    "
   ]
  },
  {
   "cell_type": "code",
   "execution_count": 8,
   "metadata": {},
   "outputs": [],
   "source": [
    "number = [1,2,3,4,5,6,7,8,9,10,11,12,13,15,14,9,19,6,20]"
   ]
  },
  {
   "cell_type": "code",
   "execution_count": 11,
   "metadata": {},
   "outputs": [
    {
     "data": {
      "text/plain": [
       "[2, 4, 6, 8, 10, 12, 14, 6, 20]"
      ]
     },
     "execution_count": 11,
     "metadata": {},
     "output_type": "execute_result"
    }
   ],
   "source": [
    "list(filter(lambda x:x % 2 == 0,number))"
   ]
  },
  {
   "cell_type": "code",
   "execution_count": null,
   "metadata": {},
   "outputs": [],
   "source": []
  },
  {
   "cell_type": "code",
   "execution_count": null,
   "metadata": {},
   "outputs": [],
   "source": []
  }
 ],
 "metadata": {
  "kernelspec": {
   "display_name": "Python 3",
   "language": "python",
   "name": "python3"
  },
  "language_info": {
   "codemirror_mode": {
    "name": "ipython",
    "version": 3
   },
   "file_extension": ".py",
   "mimetype": "text/x-python",
   "name": "python",
   "nbconvert_exporter": "python",
   "pygments_lexer": "ipython3",
   "version": "3.7.3"
  }
 },
 "nbformat": 4,
 "nbformat_minor": 2
}
