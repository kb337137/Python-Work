{
 "cells": [
  {
   "cell_type": "code",
   "execution_count": 9,
   "metadata": {},
   "outputs": [
    {
     "data": {
      "text/plain": [
       "'there are three mode \\n1 > read mode \\n2 > write mode\\n3 > append mode  \\n'"
      ]
     },
     "execution_count": 9,
     "metadata": {},
     "output_type": "execute_result"
    }
   ],
   "source": [
    "'''there are three mode \n",
    "1 > read mode \n",
    "2 > write mode\n",
    "3 > append mode  \n",
    "''' "
   ]
  },
  {
   "cell_type": "code",
   "execution_count": 1,
   "metadata": {},
   "outputs": [],
   "source": [
    "#ya mode ya kam karta han kae ap file ready karna vhatay han ya write ya phir append"
   ]
  },
  {
   "cell_type": "code",
   "execution_count": 2,
   "metadata": {},
   "outputs": [],
   "source": [
    "#ya with open ka jo funcation han tu ya huma ak handler return karta han mager uska name nhi hota hum usko \"as\" \n",
    "#file ya phir koe be name rakh kar handel kar letay hyn"
   ]
  },
  {
   "cell_type": "code",
   "execution_count": 3,
   "metadata": {},
   "outputs": [],
   "source": [
    "#write mode jub hum write karty han agar file exist nhi be karti tu be wo file bana day ga or write karday ga"
   ]
  },
  {
   "cell_type": "code",
   "execution_count": 4,
   "metadata": {},
   "outputs": [],
   "source": [
    "#append mode kae andr phlay say he file create hona must han "
   ]
  },
  {
   "cell_type": "code",
   "execution_count": 6,
   "metadata": {},
   "outputs": [],
   "source": [
    "# \"w+\" mode jo han ya dono kaam karta han read be write be isma file create ho jay ge"
   ]
  },
  {
   "cell_type": "code",
   "execution_count": 7,
   "metadata": {},
   "outputs": [],
   "source": [
    "# \"r+\" ma ya be read write dono karay ga par is ma ya difference han agr file nhi bane hoe tu ya file create nhi karay ga"
   ]
  },
  {
   "cell_type": "code",
   "execution_count": 8,
   "metadata": {},
   "outputs": [
    {
     "name": "stdout",
     "output_type": "stream",
     "text": [
      "this is a test file. We will python code file...\n"
     ]
    }
   ],
   "source": [
    "with open(\"testingDataFile.txt\",\"r\") as file:\n",
    "    content = file.read()\n",
    "print(content)"
   ]
  },
  {
   "cell_type": "code",
   "execution_count": 10,
   "metadata": {},
   "outputs": [],
   "source": [
    "with open(\"testingDataFile.txt\",\"w\") as file:\n",
    "    file.write(\"this is a check file ......\")\n"
   ]
  },
  {
   "cell_type": "code",
   "execution_count": 12,
   "metadata": {},
   "outputs": [
    {
     "ename": "FileNotFoundError",
     "evalue": "[Errno 2] No such file or directory: 'nonExitFile'",
     "output_type": "error",
     "traceback": [
      "\u001b[1;31m---------------------------------------------------------------------------\u001b[0m",
      "\u001b[1;31mFileNotFoundError\u001b[0m                         Traceback (most recent call last)",
      "\u001b[1;32m<ipython-input-12-8f3f393f3e4b>\u001b[0m in \u001b[0;36m<module>\u001b[1;34m\u001b[0m\n\u001b[1;32m----> 1\u001b[1;33m \u001b[1;32mwith\u001b[0m \u001b[0mopen\u001b[0m\u001b[1;33m(\u001b[0m\u001b[1;34m\"nonExitFile\"\u001b[0m\u001b[1;33m,\u001b[0m\u001b[1;34m\"r\"\u001b[0m\u001b[1;33m)\u001b[0m \u001b[1;32mas\u001b[0m \u001b[0mfile\u001b[0m\u001b[1;33m:\u001b[0m\u001b[1;31m# ya read mode ma agr file nhi han tu ya exits nhi karay ga\u001b[0m\u001b[1;33m\u001b[0m\u001b[1;33m\u001b[0m\u001b[0m\n\u001b[0m\u001b[0;32m      2\u001b[0m     \u001b[0mcontent\u001b[0m \u001b[1;33m=\u001b[0m \u001b[0mfile\u001b[0m\u001b[1;33m.\u001b[0m\u001b[0mread\u001b[0m\u001b[1;33m(\u001b[0m\u001b[1;33m)\u001b[0m\u001b[1;33m\u001b[0m\u001b[1;33m\u001b[0m\u001b[0m\n\u001b[0;32m      3\u001b[0m \u001b[0mprint\u001b[0m\u001b[1;33m(\u001b[0m\u001b[0mcontent\u001b[0m\u001b[1;33m)\u001b[0m\u001b[1;33m\u001b[0m\u001b[1;33m\u001b[0m\u001b[0m\n",
      "\u001b[1;31mFileNotFoundError\u001b[0m: [Errno 2] No such file or directory: 'nonExitFile'"
     ]
    }
   ],
   "source": [
    "with open(\"nonExitFile\",\"r\") as file:# ya read mode ma agr file nhi han tu ya exits nhi karay ga\n",
    "    content = file.read()\n",
    "print(content)"
   ]
  },
  {
   "cell_type": "code",
   "execution_count": 14,
   "metadata": {},
   "outputs": [],
   "source": [
    "with open(\"nonExitFile\",\"w\") as file:# ya write mode ma agr file nhi han tu ya khud create be karday ga write be karday ga\n",
    "    file.write(\"this File is Not Exit \")\n",
    "  "
   ]
  },
  {
   "cell_type": "code",
   "execution_count": 16,
   "metadata": {},
   "outputs": [],
   "source": [
    "with open(\"nonExitFile\",\"a\") as file:\n",
    "    file.write(\"\\nThis file is append\")\n",
    "    "
   ]
  },
  {
   "cell_type": "markdown",
   "metadata": {},
   "source": [
    "# r+ mode ,,, w+ mode"
   ]
  },
  {
   "cell_type": "code",
   "execution_count": 21,
   "metadata": {},
   "outputs": [
    {
     "name": "stdout",
     "output_type": "stream",
     "text": [
      "ya write be read be :\n"
     ]
    }
   ],
   "source": [
    "with open(\"newfile.txt\",\"w+\") as file:\n",
    "    file.write(\"ya write be read be :\")\n",
    "    file.seek(0)#humara courser 0 sa uthay ga seek ka mtlb\n",
    "    print(file.read())"
   ]
  },
  {
   "cell_type": "markdown",
   "metadata": {},
   "source": [
    "# Reading Line by Line"
   ]
  },
  {
   "cell_type": "code",
   "execution_count": 3,
   "metadata": {},
   "outputs": [
    {
     "name": "stdout",
     "output_type": "stream",
     "text": [
      "jitna be data ho ma easy asscess kar sakta ha ho\n",
      "\n",
      "dsa\n",
      "\n",
      "f\n",
      "\n",
      "as\n",
      "\n",
      "f\n",
      "\n",
      "sda\n",
      "\n",
      "fdsa\n",
      "\n",
      "f\n",
      "\n",
      "sad\n",
      "\n",
      "f\n",
      "\n",
      "sad\n",
      "\n",
      "fsa\n",
      "\n",
      "dg\n",
      "\n",
      "sdfa\n",
      "\n",
      "g\n",
      "\n",
      "fsd\n",
      "\n",
      "g\n",
      "\n",
      "adf\n",
      "\n",
      "gaf\n",
      "\n",
      "dg\n",
      "\n",
      "dfa\n",
      "\n",
      "gfdagmksadnkgsdanlga\n",
      "\n",
      "dsg\n",
      "\n",
      "dsa\n",
      "\n",
      "gsafmdgklnfdg\n",
      "\n",
      "asfg'\n",
      "\n",
      "fg\n",
      "\n",
      "dfa\n",
      "\n",
      "g\n",
      "\n",
      "safdgmasjfdgas\n",
      "\n",
      "\n",
      "\n"
     ]
    }
   ],
   "source": [
    "file = 'pi_digits.txt'\n",
    "\n",
    "with open(file) as file_object:\n",
    "    for i in file_object:\n",
    "        print(i)"
   ]
  },
  {
   "cell_type": "code",
   "execution_count": 4,
   "metadata": {},
   "outputs": [
    {
     "name": "stdout",
     "output_type": "stream",
     "text": [
      "jitna be data ho ma easy asscess kar sakta ha ho\n",
      "dsa\n",
      "f\n",
      "as\n",
      "f\n",
      "sda\n",
      "fdsa\n",
      "f\n",
      "sad\n",
      "f\n",
      "sad\n",
      "fsa\n",
      "dg\n",
      "sdfa\n",
      "g\n",
      "fsd\n",
      "g\n",
      "adf\n",
      "gaf\n",
      "dg\n",
      "dfa\n",
      "gfdagmksadnkgsdanlga\n",
      "dsg\n",
      "dsa\n",
      "gsafmdgklnfdg\n",
      "asfg'\n",
      "fg\n",
      "dfa\n",
      "g\n",
      "safdgmasjfdgas\n",
      "\n"
     ]
    }
   ],
   "source": [
    "file = 'pi_digits.txt'\n",
    "\n",
    "with open(file) as file_object:\n",
    "    lines = file_object.readlines()\n",
    "\n",
    "for i in lines:\n",
    "    print(i.strip())"
   ]
  },
  {
   "cell_type": "code",
   "execution_count": null,
   "metadata": {},
   "outputs": [],
   "source": []
  }
 ],
 "metadata": {
  "kernelspec": {
   "display_name": "Python 3",
   "language": "python",
   "name": "python3"
  },
  "language_info": {
   "codemirror_mode": {
    "name": "ipython",
    "version": 3
   },
   "file_extension": ".py",
   "mimetype": "text/x-python",
   "name": "python",
   "nbconvert_exporter": "python",
   "pygments_lexer": "ipython3",
   "version": "3.7.3"
  }
 },
 "nbformat": 4,
 "nbformat_minor": 2
}
