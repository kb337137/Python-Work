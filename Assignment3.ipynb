{
 "cells": [
  {
   "cell_type": "markdown",
   "metadata": {},
   "source": [
    "# Q1:\n",
    "Think of at least three kinds of your favorite pizza. Store these pizza names in a list, and then use a for loop to print the name of each pizza."
   ]
  },
  {
   "cell_type": "code",
   "execution_count": 16,
   "metadata": {},
   "outputs": [
    {
     "name": "stdout",
     "output_type": "stream",
     "text": [
      "This Pizza is Here:\n",
      "\n",
      "Chiken\n",
      "Chicken Supremo\n",
      "Barbeque\n"
     ]
    }
   ],
   "source": [
    "pizza = [\"Chiken\",\"Chicken Supremo\",\"Barbeque\"]\n",
    "print(\"This Pizza is Here:\\n\")\n",
    "for i in pizza:\n",
    "    print(i)\n",
    "    "
   ]
  },
  {
   "cell_type": "markdown",
   "metadata": {},
   "source": [
    "# Q2\n",
    "Start with your last question , Modify your for loop to print a sentence using the name of the pizza instead of printing just the name of the pizza. For each pizza you should have one line of output containing a simple statement like I like pepperoni pizza."
   ]
  },
  {
   "cell_type": "code",
   "execution_count": 18,
   "metadata": {},
   "outputs": [
    {
     "name": "stdout",
     "output_type": "stream",
     "text": [
      "i like Chiken pizza\n",
      "i like Chicken Supremo pizza\n",
      "i like Barbeque pizza\n"
     ]
    }
   ],
   "source": [
    "for i in pizza:\n",
    "    print(f'i like {i} pizza')"
   ]
  },
  {
   "cell_type": "markdown",
   "metadata": {},
   "source": [
    "# Use a for loop to print the numbers from 1 to 20, inclusive."
   ]
  },
  {
   "cell_type": "code",
   "execution_count": 22,
   "metadata": {},
   "outputs": [
    {
     "name": "stdout",
     "output_type": "stream",
     "text": [
      "1\n",
      "2\n",
      "3\n",
      "4\n",
      "5\n",
      "6\n",
      "7\n",
      "8\n",
      "9\n",
      "10\n",
      "11\n",
      "12\n",
      "13\n",
      "14\n",
      "15\n",
      "16\n",
      "17\n",
      "18\n",
      "19\n",
      "20\n"
     ]
    }
   ],
   "source": [
    "for i in range(1,21):\n",
    "    print(i)"
   ]
  },
  {
   "cell_type": "markdown",
   "metadata": {},
   "source": [
    "# Use the third argument of the range() function to make a list of the odd numbers from 1 to 20. Use a for loop to print each number"
   ]
  },
  {
   "cell_type": "code",
   "execution_count": 34,
   "metadata": {},
   "outputs": [
    {
     "name": "stdout",
     "output_type": "stream",
     "text": [
      "1\n",
      "3\n",
      "5\n",
      "7\n",
      "9\n",
      "11\n",
      "13\n",
      "15\n",
      "17\n",
      "19\n"
     ]
    }
   ],
   "source": [
    "for i in range(1,20,2):\n",
    "    print(i)"
   ]
  },
  {
   "cell_type": "code",
   "execution_count": 38,
   "metadata": {},
   "outputs": [
    {
     "name": "stdout",
     "output_type": "stream",
     "text": [
      "2\n",
      "4\n",
      "6\n",
      "8\n",
      "10\n",
      "12\n",
      "14\n",
      "16\n",
      "18\n"
     ]
    }
   ],
   "source": [
    "for i in range(2,20,2):\n",
    "    print(i)"
   ]
  },
  {
   "cell_type": "markdown",
   "metadata": {},
   "source": [
    "# Make a list of the multiples of 3 from 3 to 30. Use a for loop to print the numbers in your list."
   ]
  },
  {
   "cell_type": "code",
   "execution_count": 45,
   "metadata": {},
   "outputs": [
    {
     "name": "stdout",
     "output_type": "stream",
     "text": [
      "3\n",
      "6\n",
      "9\n",
      "12\n",
      "15\n",
      "18\n",
      "21\n",
      "24\n",
      "27\n",
      "30\n"
     ]
    }
   ],
   "source": [
    "number = [3,6,9,12,15,18,21,24,27,30]\n",
    "\n",
    "for i in number:\n",
    "    print(i)"
   ]
  },
  {
   "cell_type": "markdown",
   "metadata": {},
   "source": [
    "# Q6:\n",
    "A number raised to the third power is called a cube. For example, the cube of 2 is written as 2**3 in Python. Make a list of the first 10 cubes (that is, the cube of each integer from 1 through 10), and use a for loop to print out the value of each cube"
   ]
  },
  {
   "cell_type": "code",
   "execution_count": 52,
   "metadata": {},
   "outputs": [
    {
     "name": "stdout",
     "output_type": "stream",
     "text": [
      "THe Cube Is 1 : 1\n",
      "THe Cube Is 2 : 8\n",
      "THe Cube Is 3 : 27\n",
      "THe Cube Is 4 : 64\n",
      "THe Cube Is 5 : 125\n",
      "THe Cube Is 6 : 216\n",
      "THe Cube Is 7 : 343\n",
      "THe Cube Is 8 : 512\n",
      "THe Cube Is 9 : 729\n",
      "THe Cube Is 10 : 1000\n"
     ]
    }
   ],
   "source": [
    "numb1 = [1,2,3,4,5,6,7,8,9,10]\n",
    "for i in numb1:\n",
    "    print(f'THe Cube Is {i} :',i**3,end = \"\\n\")"
   ]
  },
  {
   "cell_type": "markdown",
   "metadata": {},
   "source": [
    "# Q7:\n",
    "Make a python program that conatains your nine favourite dishes in a list called foods.\n",
    "Print the message, The first three items in the list are:.\n",
    "Then use a slice to print the first three items from that program’s list.\n",
    "Print the message, Three items from the middle of the list are:\n",
    "Use a slice to print three items from the middle of the list.\n",
    "Print the message, The last three items in the list are:\n",
    "Use a slice to print the last three items in the list."
   ]
  },
  {
   "cell_type": "code",
   "execution_count": 53,
   "metadata": {},
   "outputs": [],
   "source": [
    "foods = [\"Biryani\",\"Banana\",\"Orange\",\"Grapes\",\"chiken Biryani\",\"Aloo Wali Biryani\",\"Taste Bryani\",\"Biryani lush \",\"Biryani Tyt\"]"
   ]
  },
  {
   "cell_type": "code",
   "execution_count": 55,
   "metadata": {},
   "outputs": [
    {
     "name": "stdout",
     "output_type": "stream",
     "text": [
      "First Three Item\n"
     ]
    },
    {
     "data": {
      "text/plain": [
       "['Biryani', 'Banana', 'Orange']"
      ]
     },
     "execution_count": 55,
     "metadata": {},
     "output_type": "execute_result"
    }
   ],
   "source": [
    "print(\"First Three Item\")\n",
    "foods[0:3]\n"
   ]
  },
  {
   "cell_type": "code",
   "execution_count": 57,
   "metadata": {},
   "outputs": [
    {
     "name": "stdout",
     "output_type": "stream",
     "text": [
      "Second Three Item\n"
     ]
    },
    {
     "data": {
      "text/plain": [
       "['Grapes', 'chiken Biryani', 'Aloo Wali Biryani']"
      ]
     },
     "execution_count": 57,
     "metadata": {},
     "output_type": "execute_result"
    }
   ],
   "source": [
    "print(\"Second Three Item\")\n",
    "foods[3:6]\n"
   ]
  },
  {
   "cell_type": "code",
   "execution_count": 64,
   "metadata": {},
   "outputs": [
    {
     "name": "stdout",
     "output_type": "stream",
     "text": [
      "Thired and Last Item\n"
     ]
    },
    {
     "data": {
      "text/plain": [
       "['Taste Bryani', 'Biryani lush ', 'Biryani Tyt']"
      ]
     },
     "execution_count": 64,
     "metadata": {},
     "output_type": "execute_result"
    }
   ],
   "source": [
    "print(\"Thired and Last Item\")\n",
    "foods[6:9]"
   ]
  },
  {
   "cell_type": "markdown",
   "metadata": {},
   "source": [
    "# Start with your program from your last Question8.\n",
    "Make a copy of the list of foods, and call it friend_foods.\n",
    "Then, do the following:\n",
    "Add a new dish to the original list.\n",
    "Add a different dish to the list friend_foodss.\n",
    "Prove that you have two separate lists.¶\n",
    "Print the message, My favorite pizzas are: and then use a for loop to print the first list.\n",
    "Print the message,\n",
    "My friend’s favorite foods are:, and then use a for loop to print the second list.\n",
    "NOTE: Make sure each new dish is stored in the appropriate list."
   ]
  },
  {
   "cell_type": "code",
   "execution_count": 66,
   "metadata": {},
   "outputs": [],
   "source": [
    "friend_foods=foods.copy()"
   ]
  },
  {
   "cell_type": "code",
   "execution_count": 67,
   "metadata": {},
   "outputs": [],
   "source": [
    "foods.append(\"ban Kabab\")"
   ]
  },
  {
   "cell_type": "code",
   "execution_count": 72,
   "metadata": {},
   "outputs": [
    {
     "name": "stdout",
     "output_type": "stream",
     "text": [
      "\n",
      " 1) Orignal List : ['Biryani', 'Banana', 'Orange', 'Grapes', 'chiken Biryani', 'Aloo Wali Biryani', 'Taste Bryani', 'Biryani lush ', 'Biryani Tyt', 'ban Kabab']\n",
      "\n",
      " 2) Friends List : ['Biryani', 'Banana', 'Orange', 'Grapes', 'chiken Biryani', 'Aloo Wali Biryani', 'Taste Bryani', 'Biryani lush ', 'Biryani Tyt']\n"
     ]
    }
   ],
   "source": [
    "print(\"\\n 1) Orignal List :\",foods)\n",
    "print(\"\\n 2) Friends List :\",friend_foods)"
   ]
  },
  {
   "cell_type": "code",
   "execution_count": 80,
   "metadata": {},
   "outputs": [
    {
     "name": "stdout",
     "output_type": "stream",
     "text": [
      " My Favourite Foods :\n",
      "\n",
      " \t \t Biryani\n",
      "\n",
      " \t \t Banana\n",
      "\n",
      " \t \t Orange\n",
      "\n",
      " \t \t Grapes\n",
      "\n",
      " \t \t chiken Biryani\n",
      "\n",
      " \t \t Aloo Wali Biryani\n",
      "\n",
      " \t \t Taste Bryani\n",
      "\n",
      " \t \t Biryani lush \n",
      "\n",
      " \t \t Biryani Tyt\n",
      "\n",
      " \t \t ban Kabab\n"
     ]
    }
   ],
   "source": [
    "print(\" My Favourite Foods :\" )\n",
    "for i in foods:\n",
    "    print(\"\\n \\t \\t\",i)"
   ]
  },
  {
   "cell_type": "code",
   "execution_count": 82,
   "metadata": {},
   "outputs": [
    {
     "name": "stdout",
     "output_type": "stream",
     "text": [
      " MY Friend Favourite Foods :\n",
      "\n",
      "\t\t Biryani\n",
      "\n",
      "\t\t Banana\n",
      "\n",
      "\t\t Orange\n",
      "\n",
      "\t\t Grapes\n",
      "\n",
      "\t\t chiken Biryani\n",
      "\n",
      "\t\t Aloo Wali Biryani\n",
      "\n",
      "\t\t Taste Bryani\n",
      "\n",
      "\t\t Biryani lush \n",
      "\n",
      "\t\t Biryani Tyt\n"
     ]
    }
   ],
   "source": [
    "print(\" MY Friend Favourite Foods :\")\n",
    "for i in friend_foods:\n",
    "    print(\"\\n\\t\\t\",i)"
   ]
  },
  {
   "cell_type": "markdown",
   "metadata": {},
   "source": [
    "# Q9:\n",
    "Take a user input from console line.Store it in a variable called Alien_color.\n",
    "\n",
    "If the alien’s color is red, print a statement that the player just earned 5 points for shooting the alien.\n",
    "\n",
    "If the alien’s color isn’t green, print a statement that the player just earned 10 points.\n",
    "\n",
    "If the alien's color isn't red or green , print a statment :, Alien is no more....."
   ]
  },
  {
   "cell_type": "code",
   "execution_count": 85,
   "metadata": {},
   "outputs": [
    {
     "name": "stdout",
     "output_type": "stream",
     "text": [
      "Enter Alien Color :yellow\n",
      "Alien is no more.....\n"
     ]
    }
   ],
   "source": [
    "color = input(\"Enter Alien Color :\")\n",
    "if color == \"red\":\n",
    "    print(\"the player just earned 5 points for shooting the alien.\")\n",
    "elif color == \"green\":\n",
    "    print(\"the player just earned 10 points.\")\n",
    "else:\n",
    "    print(\"Alien is no more.....\")"
   ]
  },
  {
   "cell_type": "markdown",
   "metadata": {},
   "source": [
    "# Q10:\n",
    "Write an if-elif-else chain that determines a person’s\n",
    "stage of life. Set a value for the variable age, and then:\n",
    "\n",
    "• If the person is less than 2 years old, print a message that the person is a baby.\n",
    "\n",
    "• If the person is at least 2 years old but less than 4, print a message that the person is a toddler.\n",
    "\n",
    "• If the person is at least 4 years old but less than 13, print a message that the person is a kid.\n",
    "\n",
    "• If the person is at least 13 years old but less than 20, print a message that the person is a teenager.\n",
    "\n",
    "• If the person is at least 20 years old but less than 65, print a message that the person is an adult.\n",
    "\n",
    "• If the person is age 65 or older, print a message that the person is an elder."
   ]
  },
  {
   "cell_type": "code",
   "execution_count": 92,
   "metadata": {},
   "outputs": [
    {
     "name": "stdout",
     "output_type": "stream",
     "text": [
      "Please Enter Your Age: 66\n",
      "the person is an elder.\n"
     ]
    }
   ],
   "source": [
    "age = int(input(\"Please Enter Your Age: \"))\n",
    "if age < 2:\n",
    "    print(\"that the person is a baby.\")\n",
    "elif age >= 4 and age <= 13:\n",
    "    print(\"that the person is a kid.\")\n",
    "elif age >= 13 and age <= 20:\n",
    "    print(\"the person is a teenager\")\n",
    "elif age >= 20 and age <= 65:\n",
    "    print(\"the person is an adult.\")\n",
    "else:\n",
    "    print(\"the person is an elder.\")\n"
   ]
  },
  {
   "cell_type": "markdown",
   "metadata": {},
   "source": [
    "# Do the following to create a program that simulates how websites ensure that everyone has a unique username.\n",
    "\n",
    "• Make a list of five or more usernames called current_users.\n",
    "\n",
    "• Make another list of five usernames called new_users. Make sure one or two of the new usernames are also in the current_users list.\n",
    "\n",
    "• Loop through the new_users list to see if each new username has already been used. If it has, print a message that the person will need to enter a new username. If a username has not been used, print a message saying that the username is available.\n",
    "\n",
    "• Make sure your comparison is case insensitive. If 'John' has been used, 'JOHN' should not be accepted."
   ]
  },
  {
   "cell_type": "code",
   "execution_count": 96,
   "metadata": {},
   "outputs": [
    {
     "name": "stdout",
     "output_type": "stream",
     "text": [
      "The Username Qasim is available.\n",
      "The Username Agwani is available.\n",
      "The Username Abdullah is Already Taken. Please enter new Name.\n",
      "The Username Blochi is available.\n",
      "The Username Pakhton is available.\n"
     ]
    }
   ],
   "source": [
    "current_users = [\"Bisman\", \"Abdullah\", \"Alisha\", \"ET\", \"Hasir\" ]\n",
    "new_users = [\"Qasim\",\"Agwani\",\"Abdullah\",\"Blochi\",\"Pakhton\"]\n",
    "for i in new_users:\n",
    "    if i in current_users:\n",
    "        print(\"The Username\",i,\"is Already Taken. Please enter new Name.\")\n",
    "    else:\n",
    "        print(\"The Username\",i,\"is available.\")"
   ]
  },
  {
   "cell_type": "markdown",
   "metadata": {},
   "source": [
    "# Use a dictionary to store information about a person you know. Store their first name, last name, age, and the city in which they live. You should have keys such as first_name, last_name, age, and city. Print each piece of information stored in your dictionary"
   ]
  },
  {
   "cell_type": "code",
   "execution_count": 103,
   "metadata": {},
   "outputs": [
    {
     "name": "stdout",
     "output_type": "stream",
     "text": [
      "First Name : ABdullah\n",
      "last name : Younus\n",
      "age : 45\n",
      "city : Karachi\n"
     ]
    }
   ],
   "source": [
    "dic = {\"First Name\":\"ABdullah\",\"Last Name\":\"Younus\",\"Age\":\"45\",\"City\":\"Karachi\"}\n",
    "\n",
    "print(\"First Name :\",dic[\"First Name\"])\n",
    "print(\"last name :\",dic[\"Last Name\"])\n",
    "print(\"age :\",dic[\"Age\"])\n",
    "print(\"city :\",dic[\"City\"])\n"
   ]
  },
  {
   "cell_type": "code",
   "execution_count": 109,
   "metadata": {},
   "outputs": [
    {
     "name": "stdout",
     "output_type": "stream",
     "text": [
      "('First Name', 'ABdullah')\n",
      "('Last Name', 'Younus')\n",
      "('Age', '45')\n",
      "('City', 'Karachi')\n",
      "('Gender', 'Male')\n",
      "('Education', 'Karachi Uni')\n"
     ]
    }
   ],
   "source": [
    "for i in dic.items():\n",
    "    print(i)\n",
    "dic[\"Gender\"] = \"Male\"\n",
    "dic[\"Education\"] = \"Karachi Uni\"\n",
    "    "
   ]
  },
  {
   "cell_type": "code",
   "execution_count": 111,
   "metadata": {},
   "outputs": [
    {
     "name": "stdout",
     "output_type": "stream",
     "text": [
      " - Indus River runs through Pakistan\n",
      " - Yangtze River runs through China\n",
      " - Amazon River runs through South America\n"
     ]
    }
   ],
   "source": [
    "river = {\"Indus River\":\"Pakistan\", \"Yangtze River\":\"China\", \"Amazon River\":\"South America\"}\n",
    "for i,j in river.items():\n",
    "    print(\" -\",i,\"runs through\",j)"
   ]
  },
  {
   "cell_type": "code",
   "execution_count": 112,
   "metadata": {},
   "outputs": [
    {
     "name": "stdout",
     "output_type": "stream",
     "text": [
      " - {'kind': 'german', 'owner': 'qasim'}\n",
      " - {'kind': 'Persian', 'owner': 'Bilal'}\n",
      " - {'kind': 'Australlian', 'owner': 'Ali'}\n"
     ]
    }
   ],
   "source": [
    "dog={'kind':\"german\",\"owner\":\"qasim\"}\n",
    "cat={\"kind\":\"Persian\",\"owner\":\"Bilal\"}\n",
    "parrot={\"kind\":\"Australlian\",\"owner\":\"Ali\"}\n",
    "\n",
    "pet=[dog,cat,parrot]\n",
    "\n",
    "for i in pet:\n",
    "    print(\" -\",i)"
   ]
  },
  {
   "cell_type": "code",
   "execution_count": null,
   "metadata": {},
   "outputs": [],
   "source": []
  }
 ],
 "metadata": {
  "kernelspec": {
   "display_name": "Python 3",
   "language": "python",
   "name": "python3"
  },
  "language_info": {
   "codemirror_mode": {
    "name": "ipython",
    "version": 3
   },
   "file_extension": ".py",
   "mimetype": "text/x-python",
   "name": "python",
   "nbconvert_exporter": "python",
   "pygments_lexer": "ipython3",
   "version": "3.7.3"
  }
 },
 "nbformat": 4,
 "nbformat_minor": 2
}
