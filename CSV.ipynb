{
 "cells": [
  {
   "cell_type": "code",
   "execution_count": 23,
   "metadata": {},
   "outputs": [],
   "source": [
    "with open(\"newfiles.txt\",\"w\") as f:\n",
    "    f.write(\"Sameer\")\n",
    "    "
   ]
  },
  {
   "cell_type": "code",
   "execution_count": 24,
   "metadata": {},
   "outputs": [
    {
     "name": "stdout",
     "output_type": "stream",
     "text": [
      "Sameer\n"
     ]
    }
   ],
   "source": [
    "with open(\"newfiles.txt\",\"r\") as f:\n",
    "    contwt =  f.read()\n",
    "print(contwt)"
   ]
  },
  {
   "cell_type": "code",
   "execution_count": 1,
   "metadata": {},
   "outputs": [],
   "source": [
    "import csv"
   ]
  },
  {
   "cell_type": "code",
   "execution_count": 8,
   "metadata": {},
   "outputs": [
    {
     "name": "stdout",
     "output_type": "stream",
     "text": [
      "<_csv.reader object at 0x000001529876A798>\n"
     ]
    }
   ],
   "source": [
    "with open('Whatever.csv' , 'r') as f:\n",
    "    cotent = csv.reader(f)\n",
    "    print(cotent)"
   ]
  },
  {
   "cell_type": "code",
   "execution_count": 14,
   "metadata": {},
   "outputs": [],
   "source": [
    "with open(\"Whatever.csv\",\"w\", newline=\"\") as f:\n",
    "    data_handler = csv.writer(f , delimiter=\",\")\n",
    "    data_handler.writerow([\"Sameer\",\"Abdullah\",\"Dada\"])\n",
    "    data_handler.writerow([\"Razzaq\",\"Shazaib\",\"Ali\"])\n",
    "    data_handler.writerow({\"Sameer\":\"Abdullah\",\"Abdullah\":\"dsafasd\"})"
   ]
  },
  {
   "cell_type": "code",
   "execution_count": 15,
   "metadata": {},
   "outputs": [
    {
     "name": "stdout",
     "output_type": "stream",
     "text": [
      "['Sameer', 'Abdullah', 'Dada']\n",
      "['Razzaq', 'Shazaib', 'Ali']\n",
      "['Sameer', 'Abdullah']\n"
     ]
    }
   ],
   "source": [
    "with open('Whatever.csv' , 'r') as f:\n",
    "    cotent = csv.reader(f)\n",
    "    for i in cotent:\n",
    "        print(i)"
   ]
  },
  {
   "cell_type": "code",
   "execution_count": 14,
   "metadata": {},
   "outputs": [],
   "source": [
    "with open(\"not.csv\",\"w\",newline=\"\") as f:\n",
    "    data_handler = csv.writer(f , delimiter = \",\")\n",
    "    data_handler.writerow([\"BAba\",\"baba\"])\n",
    "    data_handler.writerow([\"BAba\",\"baba\"])\n",
    "    data_handler.writerow([\"BAba\",\"baba\"])\n",
    "    data_handler.writerow([\"BAba\",\"baba\"])\n",
    "    "
   ]
  },
  {
   "cell_type": "code",
   "execution_count": 18,
   "metadata": {},
   "outputs": [
    {
     "name": "stdout",
     "output_type": "stream",
     "text": [
      "['Sameer', 'Abdullah', 'Dada', 'Razzaq', 'Shazaib', 'Ali']\n"
     ]
    }
   ],
   "source": [
    "with open(\"Whatever.csv\") as f:\n",
    "    contents_of_f = csv.reader(f)\n",
    "    potter_competitions = []\n",
    "    for each_line in contents_of_f:\n",
    "        potter_competitions += each_line \n",
    "print(potter_competitions)"
   ]
  },
  {
   "cell_type": "code",
   "execution_count": 6,
   "metadata": {},
   "outputs": [],
   "source": [
    "with open(\"CheckTHis.csv\",\"w\") as f:\n",
    "    content = csv.writer(f,delimiter = \",\")\n",
    "    content.writerow([\"SAmeer\",\"Baba\",\"dad\",\"sbav\"])\n",
    "    content.writerow([\"SAmeer\",\"Baba\",\"dad\",\"sbav\"])\n",
    "    content.writerow([\"SAmeer\",\"Baba\",\"dad\",\"sbav\"])\n",
    "    content.writerow([\"SAmeer\",\"Baba\",\"dad\",\"sbav\"])"
   ]
  },
  {
   "cell_type": "code",
   "execution_count": 12,
   "metadata": {},
   "outputs": [
    {
     "name": "stdout",
     "output_type": "stream",
     "text": [
      "['SAmeer', 'Baba', 'dad', 'sbav']\n",
      "[]\n",
      "['SAmeer', 'Baba', 'dad', 'sbav']\n",
      "[]\n",
      "['SAmeer', 'Baba', 'dad', 'sbav']\n",
      "[]\n",
      "['SAmeer', 'Baba', 'dad', 'sbav']\n",
      "[]\n"
     ]
    }
   ],
   "source": [
    "with open('CheckTHis.csv','r') as f:\n",
    "    content = csv.reader(f)\n",
    "    for i in content:\n",
    "        print(i)"
   ]
  },
  {
   "cell_type": "code",
   "execution_count": 13,
   "metadata": {},
   "outputs": [],
   "source": [
    "import csv"
   ]
  },
  {
   "cell_type": "code",
   "execution_count": 14,
   "metadata": {},
   "outputs": [],
   "source": [
    "with open(\"try.csv\",\"w\",newline=\"\") as f:\n",
    "    content = csv.writer(f , delimiter = \",\")\n",
    "    content.writerow([\"Sameer\",\"Abdullah\",\"Khan\"])\n",
    "    content.writerow([\"Daga\",\"Badal\",\"Shine\",\"the\"])"
   ]
  },
  {
   "cell_type": "code",
   "execution_count": 15,
   "metadata": {},
   "outputs": [
    {
     "name": "stdout",
     "output_type": "stream",
     "text": [
      "['Sameer', 'Abdullah', 'Khan']\n",
      "['Daga', 'Badal', 'Shine', 'the']\n"
     ]
    }
   ],
   "source": [
    "with open(\"try.csv\",\"r\") as f:\n",
    "    contnt = csv.reader(f)\n",
    "    for sa in contnt:\n",
    "        print(sa)"
   ]
  },
  {
   "cell_type": "code",
   "execution_count": 18,
   "metadata": {},
   "outputs": [
    {
     "name": "stdout",
     "output_type": "stream",
     "text": [
      "['Sameer', 'Abdullah', 'Khan', 'Daga', 'Badal', 'Shine', 'the']\n"
     ]
    }
   ],
   "source": [
    "with open(\"try.csv\",\"r\") as f:\n",
    "    cotent = csv.reader(f)\n",
    "    emplist = []\n",
    "    for i in cotent:\n",
    "        emplist = emplist + i\n",
    "    print(emplist)"
   ]
  },
  {
   "cell_type": "code",
   "execution_count": 20,
   "metadata": {},
   "outputs": [
    {
     "data": {
      "text/plain": [
       "'the'"
      ]
     },
     "execution_count": 20,
     "metadata": {},
     "output_type": "execute_result"
    }
   ],
   "source": [
    "emplist[6]"
   ]
  },
  {
   "cell_type": "code",
   "execution_count": 21,
   "metadata": {},
   "outputs": [
    {
     "data": {
      "text/plain": [
       "['Dialect',\n",
       " 'DictReader',\n",
       " 'DictWriter',\n",
       " 'Error',\n",
       " 'OrderedDict',\n",
       " 'QUOTE_ALL',\n",
       " 'QUOTE_MINIMAL',\n",
       " 'QUOTE_NONE',\n",
       " 'QUOTE_NONNUMERIC',\n",
       " 'Sniffer',\n",
       " 'StringIO',\n",
       " '_Dialect',\n",
       " '__all__',\n",
       " '__builtins__',\n",
       " '__cached__',\n",
       " '__doc__',\n",
       " '__file__',\n",
       " '__loader__',\n",
       " '__name__',\n",
       " '__package__',\n",
       " '__spec__',\n",
       " '__version__',\n",
       " 'excel',\n",
       " 'excel_tab',\n",
       " 'field_size_limit',\n",
       " 'get_dialect',\n",
       " 'list_dialects',\n",
       " 're',\n",
       " 'reader',\n",
       " 'register_dialect',\n",
       " 'unix_dialect',\n",
       " 'unregister_dialect',\n",
       " 'writer']"
      ]
     },
     "execution_count": 21,
     "metadata": {},
     "output_type": "execute_result"
    }
   ],
   "source": [
    "dir(csv)"
   ]
  },
  {
   "cell_type": "code",
   "execution_count": null,
   "metadata": {},
   "outputs": [],
   "source": []
  }
 ],
 "metadata": {
  "kernelspec": {
   "display_name": "Python 3",
   "language": "python",
   "name": "python3"
  },
  "language_info": {
   "codemirror_mode": {
    "name": "ipython",
    "version": 3
   },
   "file_extension": ".py",
   "mimetype": "text/x-python",
   "name": "python",
   "nbconvert_exporter": "python",
   "pygments_lexer": "ipython3",
   "version": "3.7.3"
  }
 },
 "nbformat": 4,
 "nbformat_minor": 2
}
