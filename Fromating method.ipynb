{
 "cells": [
  {
   "cell_type": "code",
   "execution_count": 5,
   "metadata": {},
   "outputs": [],
   "source": [
    "broage = 18\n",
    "myage = 20\n",
    "number = 2\n",
    "sa = 5"
   ]
  },
  {
   "cell_type": "code",
   "execution_count": 6,
   "metadata": {},
   "outputs": [
    {
     "name": "stdout",
     "output_type": "stream",
     "text": [
      "The Age Is 20: and my bro age is 18 and sa 5 and number 2\n"
     ]
    }
   ],
   "source": [
    "print(\"The Age Is {}: and my bro age is {} and sa {} and number {}\".format(myage,broage,sa,number))# string formating "
   ]
  },
  {
   "cell_type": "code",
   "execution_count": 7,
   "metadata": {},
   "outputs": [
    {
     "name": "stdout",
     "output_type": "stream",
     "text": [
      "The Age Is 18: and my bro age is 20 and number 2\n"
     ]
    }
   ],
   "source": [
    "print(\"The Age Is {1}: and my bro age is {0} and number {2}\".format(myage,broage,number))# ab ma chta ho mari marxi sa value ay tu ya kaam ma index say karo ga"
   ]
  },
  {
   "cell_type": "markdown",
   "metadata": {},
   "source": [
    "# type convertion "
   ]
  },
  {
   "cell_type": "code",
   "execution_count": 8,
   "metadata": {},
   "outputs": [
    {
     "name": "stdout",
     "output_type": "stream",
     "text": [
      "My age is 2.000000:\n"
     ]
    }
   ],
   "source": [
    "print(\"My age is {0:f}:\".format(number))#{0:f}ya 0 jo han na ya index han or f jo lagaya han wo float value kii waja sa lagaya han"
   ]
  },
  {
   "cell_type": "code",
   "execution_count": 9,
   "metadata": {},
   "outputs": [
    {
     "name": "stdout",
     "output_type": "stream",
     "text": [
      "My age is 2.000:\n"
     ]
    }
   ],
   "source": [
    "print(\"My age is {0:.3f}:\".format(number))#.3 is liya han kae huma point kae baad kitnay digit show karany han"
   ]
  },
  {
   "cell_type": "code",
   "execution_count": 10,
   "metadata": {},
   "outputs": [
    {
     "name": "stdout",
     "output_type": "stream",
     "text": [
      "my age is 3 0.666667\n"
     ]
    }
   ],
   "source": [
    "print(\"my age is 3 {0:f}\".format(number/3))"
   ]
  },
  {
   "cell_type": "code",
   "execution_count": 11,
   "metadata": {},
   "outputs": [
    {
     "name": "stdout",
     "output_type": "stream",
     "text": [
      "my age is    20\n"
     ]
    }
   ],
   "source": [
    "print(\"my age is {0:5d}\".format(myage))# ya d jo han speace lay raha han \"is\" kae baad sa myage ki value 5 digit ka space lay raha han"
   ]
  },
  {
   "cell_type": "markdown",
   "metadata": {},
   "source": [
    "# string kae left right chevo use karty han like less than sign greater than sign"
   ]
  },
  {
   "cell_type": "code",
   "execution_count": 12,
   "metadata": {},
   "outputs": [
    {
     "name": "stdout",
     "output_type": "stream",
     "text": [
      "my age is         20\n"
     ]
    }
   ],
   "source": [
    "print(\"my age is {0:>10}\".format(myage))"
   ]
  },
  {
   "cell_type": "code",
   "execution_count": null,
   "metadata": {},
   "outputs": [],
   "source": []
  },
  {
   "cell_type": "code",
   "execution_count": null,
   "metadata": {},
   "outputs": [],
   "source": []
  },
  {
   "cell_type": "code",
   "execution_count": 4,
   "metadata": {},
   "outputs": [
    {
     "name": "stdout",
     "output_type": "stream",
     "text": [
      "I have 6 cats \n"
     ]
    }
   ],
   "source": [
    "print('I have %d cats '%6)"
   ]
  },
  {
   "cell_type": "code",
   "execution_count": 5,
   "metadata": {},
   "outputs": [
    {
     "name": "stdout",
     "output_type": "stream",
     "text": [
      "I Have   6 cats\n"
     ]
    }
   ],
   "source": [
    "print('I Have %3d cats'%6)"
   ]
  },
  {
   "cell_type": "code",
   "execution_count": 14,
   "metadata": {},
   "outputs": [
    {
     "name": "stdout",
     "output_type": "stream",
     "text": [
      "I have 006 cats\n"
     ]
    }
   ],
   "source": [
    "print('I have %03d cats'%6)"
   ]
  },
  {
   "cell_type": "code",
   "execution_count": 9,
   "metadata": {},
   "outputs": [
    {
     "name": "stdout",
     "output_type": "stream",
     "text": [
      "I have 6.000000 cats\n"
     ]
    }
   ],
   "source": [
    "print('I have %f cats'%6)"
   ]
  },
  {
   "cell_type": "code",
   "execution_count": null,
   "metadata": {},
   "outputs": [],
   "source": []
  }
 ],
 "metadata": {
  "kernelspec": {
   "display_name": "Python 3",
   "language": "python",
   "name": "python3"
  },
  "language_info": {
   "codemirror_mode": {
    "name": "ipython",
    "version": 3
   },
   "file_extension": ".py",
   "mimetype": "text/x-python",
   "name": "python",
   "nbconvert_exporter": "python",
   "pygments_lexer": "ipython3",
   "version": "3.7.3"
  }
 },
 "nbformat": 4,
 "nbformat_minor": 2
}
