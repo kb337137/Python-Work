{
 "cells": [
  {
   "cell_type": "code",
   "execution_count": 1,
   "metadata": {},
   "outputs": [],
   "source": [
    "import datetime"
   ]
  },
  {
   "cell_type": "code",
   "execution_count": 8,
   "metadata": {},
   "outputs": [
    {
     "name": "stdout",
     "output_type": "stream",
     "text": [
      "2019-08-25\n"
     ]
    }
   ],
   "source": [
    "print(datetime.date.today()) #The default format is YYYY-MM-DD\n"
   ]
  },
  {
   "cell_type": "code",
   "execution_count": 6,
   "metadata": {},
   "outputs": [],
   "source": [
    "current = datetime.date.today()"
   ]
  },
  {
   "cell_type": "code",
   "execution_count": 7,
   "metadata": {},
   "outputs": [
    {
     "name": "stdout",
     "output_type": "stream",
     "text": [
      "2019-08-25\n",
      "2019\n",
      "8\n",
      "25\n"
     ]
    }
   ],
   "source": [
    "print(current) \n",
    "print(current.year) \n",
    "print(current.month) \n",
    "print(current.day)\n"
   ]
  },
  {
   "cell_type": "code",
   "execution_count": 9,
   "metadata": {},
   "outputs": [],
   "source": [
    "#strftime allows you to specify the date format"
   ]
  },
  {
   "cell_type": "code",
   "execution_count": 10,
   "metadata": {},
   "outputs": [],
   "source": [
    "currentdate = datetime.date.today()"
   ]
  },
  {
   "cell_type": "code",
   "execution_count": 17,
   "metadata": {},
   "outputs": [
    {
     "name": "stdout",
     "output_type": "stream",
     "text": [
      "25 Aug,2019\n"
     ]
    }
   ],
   "source": [
    "print(currentdate.strftime(\"%d %b,%Y\"))"
   ]
  },
  {
   "cell_type": "markdown",
   "metadata": {},
   "source": [
    "#  %d is the day of the month\n",
    "#  %b is the abbreviation for the month\n",
    "#  %Y is the 4 digit year\n"
   ]
  },
  {
   "cell_type": "code",
   "execution_count": 19,
   "metadata": {},
   "outputs": [
    {
     "data": {
      "text/plain": [
       "'\\n%b is the month abbreviation\\n%B is the full month name\\n%y is two digit year\\n%a is the day of the week abbreviated\\n%A is the day of the week\\n\\n'"
      ]
     },
     "execution_count": 19,
     "metadata": {},
     "output_type": "execute_result"
    }
   ],
   "source": [
    "\"\"\"\n",
    "%b is the month abbreviation\n",
    "%B is the full month name\n",
    "%y is two digit year\n",
    "%a is the day of the week abbreviated\n",
    "%A is the day of the week\n",
    "\n",
    "\"\"\""
   ]
  },
  {
   "cell_type": "code",
   "execution_count": 20,
   "metadata": {},
   "outputs": [
    {
     "name": "stdout",
     "output_type": "stream",
     "text": [
      "Aug\n"
     ]
    }
   ],
   "source": [
    "print(currentdate.strftime(\"%b\"))"
   ]
  },
  {
   "cell_type": "code",
   "execution_count": 21,
   "metadata": {},
   "outputs": [
    {
     "name": "stdout",
     "output_type": "stream",
     "text": [
      "August\n"
     ]
    }
   ],
   "source": [
    "print(currentdate.strftime(\"%B\"))"
   ]
  },
  {
   "cell_type": "code",
   "execution_count": 24,
   "metadata": {},
   "outputs": [
    {
     "name": "stdout",
     "output_type": "stream",
     "text": [
      "19\n"
     ]
    }
   ],
   "source": [
    "print(currentdate.strftime(\"%y\"))"
   ]
  },
  {
   "cell_type": "code",
   "execution_count": 25,
   "metadata": {},
   "outputs": [
    {
     "name": "stdout",
     "output_type": "stream",
     "text": [
      "2019\n"
     ]
    }
   ],
   "source": [
    "print(currentdate.strftime(\"%Y\"))"
   ]
  },
  {
   "cell_type": "code",
   "execution_count": 26,
   "metadata": {},
   "outputs": [
    {
     "name": "stdout",
     "output_type": "stream",
     "text": [
      "Sun\n"
     ]
    }
   ],
   "source": [
    "print(currentdate.strftime(\"%a\"))"
   ]
  },
  {
   "cell_type": "code",
   "execution_count": 27,
   "metadata": {},
   "outputs": [
    {
     "name": "stdout",
     "output_type": "stream",
     "text": [
      "Sunday\n"
     ]
    }
   ],
   "source": [
    "print(currentdate.strftime(\"%A\"))"
   ]
  },
  {
   "cell_type": "code",
   "execution_count": 29,
   "metadata": {},
   "outputs": [
    {
     "name": "stdout",
     "output_type": "stream",
     "text": [
      "Please attend our event Sunday, August 25 in the year 2019\n"
     ]
    }
   ],
   "source": [
    "print(currentdate.strftime('Please attend our event %A, %B %d in the year %Y'))\n"
   ]
  },
  {
   "cell_type": "code",
   "execution_count": null,
   "metadata": {},
   "outputs": [],
   "source": [
    "birthday = input (\"What is your birthday? \") \n",
    "birthdate = \n",
    "datetime.datetime.strptime(birthday,\"%m/%d/%Y\").date() \n",
    "#why did we list datetime twice?  \n",
    "#because we are calling the strptime function \n",
    "#which is part of the datetime class \n",
    "#which is in the datetime module \n",
    "print (\"Your birth month is \" + birthdate.strftime('%B')) \n"
   ]
  },
  {
   "cell_type": "code",
   "execution_count": 37,
   "metadata": {},
   "outputs": [
    {
     "name": "stdout",
     "output_type": "stream",
     "text": [
      "what is your birthday ?05/19/2000\n",
      "Your birth month is May\n"
     ]
    }
   ],
   "source": [
    "birthday = input(\"what is your birthday ?\")\n",
    "birthday = datetime.datetime.strptime(birthday,\"%m/%d/%Y\").date()\n",
    "print(\"Your birth month is \"+birthday.strftime('%B'))"
   ]
  },
  {
   "cell_type": "code",
   "execution_count": 43,
   "metadata": {},
   "outputs": [
    {
     "name": "stdout",
     "output_type": "stream",
     "text": [
      "-7037\n"
     ]
    }
   ],
   "source": [
    "nextBirthday = \\\n",
    "datetime.datetime.strptime('05/19/2000','%m/%d/%Y').date()\n",
    "currentDate =datetime.date.today() \n",
    "#If you subtract two dates you get back the number of days \n",
    "#between those dates\n",
    "difference = nextBirthday - currentDate\n",
    "print(difference.days)\n"
   ]
  },
  {
   "cell_type": "code",
   "execution_count": 45,
   "metadata": {},
   "outputs": [
    {
     "name": "stdout",
     "output_type": "stream",
     "text": [
      "2019-09-09\n",
      "2019-08-25\n"
     ]
    }
   ],
   "source": [
    "currentDate=datetime.date.today() \n",
    "#timedelta allows you to specify the time \n",
    "#to add or subtract from a date \n",
    "print(currentDate+datetime.timedelta(days=15)) \n",
    "print(currentDate+datetime.timedelta(hours=15))\n"
   ]
  },
  {
   "cell_type": "code",
   "execution_count": 47,
   "metadata": {},
   "outputs": [
    {
     "name": "stdout",
     "output_type": "stream",
     "text": [
      "2019-08-25 09:20:47.664282\n",
      "9\n",
      "20\n",
      "47\n"
     ]
    }
   ],
   "source": [
    "currentTime = datetime.datetime.now() \n",
    "print(currentTime) \n",
    "print(currentTime.hour) \n",
    "print(currentTime.minute)\n",
    "print(currentTime.second)\n"
   ]
  },
  {
   "cell_type": "code",
   "execution_count": 54,
   "metadata": {},
   "outputs": [
    {
     "name": "stdout",
     "output_type": "stream",
     "text": [
      "09:20\n"
     ]
    }
   ],
   "source": [
    "print(datetime.datetime.strftime(currentTime,'%H:%M'))\n"
   ]
  },
  {
   "cell_type": "code",
   "execution_count": 55,
   "metadata": {},
   "outputs": [
    {
     "name": "stderr",
     "output_type": "stream",
     "text": [
      "UsageError: Line magic function `%H` not found.\n"
     ]
    }
   ],
   "source": [
    "%H \tHours (24 hr clock)\n",
    "%I \tHours (12 hr clock)\n",
    "%p \tAM or PM\n",
    "%m \tMinutes\n",
    "%S \tSeconds\n"
   ]
  },
  {
   "cell_type": "code",
   "execution_count": 58,
   "metadata": {},
   "outputs": [
    {
     "name": "stdout",
     "output_type": "stream",
     "text": [
      "09\n"
     ]
    }
   ],
   "source": [
    "print(datetime.datetime.strftime(currentTime,\"%H\"))# time 9 baj rahay hayn"
   ]
  },
  {
   "cell_type": "code",
   "execution_count": 60,
   "metadata": {},
   "outputs": [
    {
     "name": "stdout",
     "output_type": "stream",
     "text": [
      "09:20\n"
     ]
    }
   ],
   "source": [
    "print(datetime.datetime.strftime(currentTime,\"%I:%M\"))"
   ]
  },
  {
   "cell_type": "code",
   "execution_count": 61,
   "metadata": {},
   "outputs": [
    {
     "name": "stdout",
     "output_type": "stream",
     "text": [
      "AM\n"
     ]
    }
   ],
   "source": [
    "print(datetime.datetime.strftime(currentTime,\"%p\"))"
   ]
  },
  {
   "cell_type": "code",
   "execution_count": 62,
   "metadata": {},
   "outputs": [
    {
     "name": "stdout",
     "output_type": "stream",
     "text": [
      "08\n"
     ]
    }
   ],
   "source": [
    "print(datetime.datetime.strftime(currentTime,\"%m\"))"
   ]
  },
  {
   "cell_type": "code",
   "execution_count": 63,
   "metadata": {},
   "outputs": [
    {
     "name": "stdout",
     "output_type": "stream",
     "text": [
      "47\n"
     ]
    }
   ],
   "source": [
    "print(datetime.datetime.strftime(currentTime,\"%S\"))"
   ]
  },
  {
   "cell_type": "code",
   "execution_count": 77,
   "metadata": {},
   "outputs": [
    {
     "name": "stdout",
     "output_type": "stream",
     "text": [
      "Where are you from? ADS\n",
      "Aloha/Ciao/G’Day\n"
     ]
    }
   ],
   "source": [
    "country = input(\"Where are you from? \") \n",
    "\n",
    "if country==\"CANADA\":\n",
    "    print(\"Hello\") \n",
    "elif country == \"GERMANY\":\n",
    "    print(\"Guten Tag\") \n",
    "elif country == \"FRANCE\":\n",
    "    print(\"Bonjour\")\n",
    "else:\n",
    "    print(\"Aloha/Ciao/G’Day\")\n",
    "\n"
   ]
  },
  {
   "cell_type": "code",
   "execution_count": 80,
   "metadata": {},
   "outputs": [
    {
     "name": "stdout",
     "output_type": "stream",
     "text": [
      "What is 2 + 25\n",
      "What is 2 + 24\n",
      "Yes! 2 + 2 = 4 \n"
     ]
    }
   ],
   "source": [
    "answer = \"0\"\n",
    "\n",
    "while answer != \"4\":\n",
    "    answer = input(\"What is 2 + 2\")\n",
    "print(\"Yes! 2 + 2 = 4 \") "
   ]
  },
  {
   "cell_type": "code",
   "execution_count": null,
   "metadata": {},
   "outputs": [],
   "source": []
  }
 ],
 "metadata": {
  "kernelspec": {
   "display_name": "Python 3",
   "language": "python",
   "name": "python3"
  },
  "language_info": {
   "codemirror_mode": {
    "name": "ipython",
    "version": 3
   },
   "file_extension": ".py",
   "mimetype": "text/x-python",
   "name": "python",
   "nbconvert_exporter": "python",
   "pygments_lexer": "ipython3",
   "version": "3.7.3"
  }
 },
 "nbformat": 4,
 "nbformat_minor": 2
}
