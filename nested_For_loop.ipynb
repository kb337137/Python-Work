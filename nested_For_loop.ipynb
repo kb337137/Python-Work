{
 "cells": [
  {
   "cell_type": "code",
   "execution_count": 12,
   "metadata": {},
   "outputs": [
    {
     "name": "stdout",
     "output_type": "stream",
     "text": [
      "THe Here IS this Tucson\n"
     ]
    }
   ],
   "source": [
    "city_to_check = \"Tucson\"\n",
    "cleanest_cities = [\"Cheyenne\", \"Santa Fe\", \"Tucson\",\"Great Falls\", \"Honolulu\"]\n",
    "for i in cleanest_cities:\n",
    "    if i == city_to_check:\n",
    "        print(\"THe Here IS this\",i)"
   ]
  },
  {
   "cell_type": "code",
   "execution_count": 17,
   "metadata": {},
   "outputs": [
    {
     "name": "stdout",
     "output_type": "stream",
     "text": [
      "['BlueRay  Blue', 'BlueRay  Green', 'BlueRay  Yellow', 'BlueRay  Red', 'BlueRay  Orange', 'BlueRay  Golden', 'Upchuck  Blue', 'Upchuck  Green', 'Upchuck  Yellow', 'Upchuck  Red', 'Upchuck  Orange', 'Upchuck  Golden', 'Lojack  Blue', 'Lojack  Green', 'Lojack  Yellow', 'Lojack  Red', 'Lojack  Orange', 'Lojack  Golden', 'Gizmo  Blue', 'Gizmo  Green', 'Gizmo  Yellow', 'Gizmo  Red', 'Gizmo  Orange', 'Gizmo  Golden', 'Do-Rag  Blue', 'Do-Rag  Green', 'Do-Rag  Yellow', 'Do-Rag  Red', 'Do-Rag  Orange', 'Do-Rag  Golden']\n"
     ]
    }
   ],
   "source": [
    "first_names = [\"BlueRay \", \"Upchuck \", \"Lojack \",\"Gizmo \", \"Do-Rag \"]\n",
    "last_name = [\"Blue\",\"Green\",\"Yellow\",\"Red\",\"Orange\",\"Golden\"]\n",
    "fullnam = []\n",
    "for firstname in first_names:\n",
    "    for lname in last_name:\n",
    "        fullnam.append(firstname+\" \"+lname)\n",
    "print(fullnam)"
   ]
  },
  {
   "cell_type": "code",
   "execution_count": 19,
   "metadata": {},
   "outputs": [
    {
     "name": "stdout",
     "output_type": "stream",
     "text": [
      "Enter Your Citysanta fe\n",
      "It's one of the cleanest cities\n"
     ]
    }
   ],
   "source": [
    "Cites = input(\"Enter Your City\")\n",
    "Cites = Cites.lower()\n",
    "cleanest_cities = [\"cheyenne\", \"santa fe\",\"tucson\", \"great falls\", \"honolulu\"]\n",
    "for i in cleanest_cities:\n",
    "    if Cites == i:\n",
    "        print(\"It's one of the cleanest cities\")\n"
   ]
  },
  {
   "cell_type": "code",
   "execution_count": null,
   "metadata": {},
   "outputs": [],
   "source": []
  }
 ],
 "metadata": {
  "kernelspec": {
   "display_name": "Python 3",
   "language": "python",
   "name": "python3"
  },
  "language_info": {
   "codemirror_mode": {
    "name": "ipython",
    "version": 3
   },
   "file_extension": ".py",
   "mimetype": "text/x-python",
   "name": "python",
   "nbconvert_exporter": "python",
   "pygments_lexer": "ipython3",
   "version": "3.7.3"
  }
 },
 "nbformat": 4,
 "nbformat_minor": 2
}
