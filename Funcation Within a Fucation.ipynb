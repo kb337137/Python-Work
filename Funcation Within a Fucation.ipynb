{
 "cells": [
  {
   "cell_type": "markdown",
   "metadata": {},
   "source": [
    "# funcation within a Funcation"
   ]
  },
  {
   "cell_type": "code",
   "execution_count": 3,
   "metadata": {},
   "outputs": [],
   "source": [
    "def commissionCal(sales): #jub ya call ho ga tu check karay ga kae salaes itni kare han\n",
    "    if sales > 100:\n",
    "        return sales * 100\n",
    "    elif sales > 50:\n",
    "        return sales * 50\n",
    "    elif sales > 20:\n",
    "        return sales * 20\n",
    "    else:\n",
    "        return 0\n",
    "\n",
    "def salarCal(basicsalary,sales):\n",
    "    grossSalary = basicsalary + commissionCal(sales)\n",
    "    \n",
    "    print(f\"The Gross Salray is : {grossSalary}\")"
   ]
  },
  {
   "cell_type": "code",
   "execution_count": 4,
   "metadata": {},
   "outputs": [
    {
     "name": "stdout",
     "output_type": "stream",
     "text": [
      "The Gross Salray is : 65000\n"
     ]
    }
   ],
   "source": [
    "salarCal(50000,150)"
   ]
  },
  {
   "cell_type": "code",
   "execution_count": null,
   "metadata": {},
   "outputs": [],
   "source": []
  }
 ],
 "metadata": {
  "kernelspec": {
   "display_name": "Python 3",
   "language": "python",
   "name": "python3"
  },
  "language_info": {
   "codemirror_mode": {
    "name": "ipython",
    "version": 3
   },
   "file_extension": ".py",
   "mimetype": "text/x-python",
   "name": "python",
   "nbconvert_exporter": "python",
   "pygments_lexer": "ipython3",
   "version": "3.7.3"
  }
 },
 "nbformat": 4,
 "nbformat_minor": 2
}
