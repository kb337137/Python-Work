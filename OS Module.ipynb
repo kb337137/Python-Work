{
 "cells": [
  {
   "cell_type": "markdown",
   "metadata": {},
   "source": [
    "# OS module (operating system dependent functionality)"
   ]
  },
  {
   "cell_type": "code",
   "execution_count": 3,
   "metadata": {},
   "outputs": [],
   "source": [
    "import os#hum jaisa computer ma koe be file delet karty han ya cop wegra name wegra change karty han ase os module be kaam karta han"
   ]
  },
  {
   "cell_type": "code",
   "execution_count": 7,
   "metadata": {},
   "outputs": [],
   "source": [
    "#os.getcwd() *cwd current working dictory #ya mujha current working dictory return karay ga"
   ]
  },
  {
   "cell_type": "code",
   "execution_count": 8,
   "metadata": {},
   "outputs": [
    {
     "name": "stdout",
     "output_type": "stream",
     "text": [
      "E:\\PIAIC MY WORK\n"
     ]
    }
   ],
   "source": [
    "print(os.getcwd())#humari file jo  be han wo check karty han"
   ]
  },
  {
   "cell_type": "code",
   "execution_count": 9,
   "metadata": {},
   "outputs": [],
   "source": [
    "#or agar mujha agar is file ma folder create karna han tu ma os.mkdir() use karo ga"
   ]
  },
  {
   "cell_type": "code",
   "execution_count": 10,
   "metadata": {},
   "outputs": [
    {
     "ename": "FileExistsError",
     "evalue": "[WinError 183] Cannot create a file when that file already exists: 'd:\\\\tempdir'",
     "output_type": "error",
     "traceback": [
      "\u001b[1;31m---------------------------------------------------------------------------\u001b[0m",
      "\u001b[1;31mFileExistsError\u001b[0m                           Traceback (most recent call last)",
      "\u001b[1;32m<ipython-input-10-4d698c113483>\u001b[0m in \u001b[0;36m<module>\u001b[1;34m\u001b[0m\n\u001b[1;32m----> 1\u001b[1;33m \u001b[0mos\u001b[0m\u001b[1;33m.\u001b[0m\u001b[0mmkdir\u001b[0m\u001b[1;33m(\u001b[0m\u001b[1;34m\"d:\\\\tempdir\"\u001b[0m\u001b[1;33m)\u001b[0m\u001b[1;31m#ya dobara add nhi karay ga alredy ak dafa execute kar chuka ho\u001b[0m\u001b[1;33m\u001b[0m\u001b[1;33m\u001b[0m\u001b[0m\n\u001b[0m",
      "\u001b[1;31mFileExistsError\u001b[0m: [WinError 183] Cannot create a file when that file already exists: 'd:\\\\tempdir'"
     ]
    }
   ],
   "source": [
    "os.mkdir(\"d:\\\\tempdir\")#ya dobara add nhi karay ga alredy ak dafa execute kar chuka ho"
   ]
  },
  {
   "cell_type": "code",
   "execution_count": 11,
   "metadata": {},
   "outputs": [
    {
     "data": {
      "text/plain": [
       "True"
      ]
     },
     "execution_count": 11,
     "metadata": {},
     "output_type": "execute_result"
    }
   ],
   "source": [
    "os.path.exists(\"tempdir\")"
   ]
  },
  {
   "cell_type": "code",
   "execution_count": 12,
   "metadata": {},
   "outputs": [],
   "source": [
    "#simle if kii condiction lagao agar nhi han tu create kar day or han tu bata day"
   ]
  },
  {
   "cell_type": "code",
   "execution_count": 13,
   "metadata": {},
   "outputs": [
    {
     "name": "stdout",
     "output_type": "stream",
     "text": [
      "already\n"
     ]
    }
   ],
   "source": [
    "if os.path.exists(\"tempdir\"):# ya create kar chuka han ab dubara run kar kae dekhty han\n",
    "    print(\"already\")\n",
    "else:\n",
    "    os.mkdir(\"tempdir\")"
   ]
  },
  {
   "cell_type": "code",
   "execution_count": 14,
   "metadata": {},
   "outputs": [
    {
     "name": "stdout",
     "output_type": "stream",
     "text": [
      "already\n"
     ]
    }
   ],
   "source": [
    "if os.path.exists(\"tempdir\"):\n",
    "    print(\"already\")\n",
    "else:\n",
    "    os.mkdir(\"tempdir\")"
   ]
  },
  {
   "cell_type": "code",
   "execution_count": 15,
   "metadata": {},
   "outputs": [],
   "source": [
    "#sub sa asan file ko open karna "
   ]
  },
  {
   "cell_type": "code",
   "execution_count": 16,
   "metadata": {},
   "outputs": [],
   "source": [
    "open(\"file.txt\",\"a\").close()"
   ]
  },
  {
   "cell_type": "code",
   "execution_count": 17,
   "metadata": {},
   "outputs": [],
   "source": [
    "#listdir apki current working dictory ma jitne be files ho ge un sub kii list bana kae day ga"
   ]
  },
  {
   "cell_type": "code",
   "execution_count": 18,
   "metadata": {},
   "outputs": [
    {
     "data": {
      "text/plain": [
       "['.git',\n",
       " '.ipynb_checkpoints',\n",
       " 'args ,keywords_pochna_han_this_project_work_again_1_more_example.ipynb',\n",
       " 'Assignment3.ipynb',\n",
       " 'boys scout 2.ipynb',\n",
       " 'changing_case_in_a_string_Method.ipynb',\n",
       " 'CheckTHis.csv',\n",
       " 'Classes And Objects and inhertanc and data file .ipynb',\n",
       " 'Concatenating String.ipynb',\n",
       " 'connection to sql.ipynb',\n",
       " 'CSV.ipynb',\n",
       " 'custumer_dic.json',\n",
       " 'Data File Handling.ipynb',\n",
       " 'dictionary.ipynb',\n",
       " 'division.ipynb',\n",
       " 'Even Odd program.ipynb',\n",
       " 'Exception.ipynb',\n",
       " 'Extend KEyword.ipynb',\n",
       " 'Factorial Program.ipynb',\n",
       " 'file.txt',\n",
       " 'Filter Funcation.ipynb',\n",
       " 'First Assignment.ipynb',\n",
       " 'For Loop.ipynb',\n",
       " 'Fromating method.ipynb',\n",
       " 'Funcation Clearly Discuribe.ipynb',\n",
       " 'Funcation important code.ipynb',\n",
       " 'Funcation Within a Fucation.ipynb',\n",
       " 'IF Elif statement.ipynb',\n",
       " 'indexsing check.ipynb',\n",
       " 'input function.ipynb',\n",
       " 'iterator vs iterable.ipynb',\n",
       " 'JSON.ipynb',\n",
       " 'Lambda Funcation.ipynb',\n",
       " 'list kae andr dictionary .ipynb',\n",
       " 'lists all funcation.ipynb',\n",
       " 'Login.ipynb',\n",
       " 'Map() Funcation,Filter funcation.ipynb',\n",
       " 'Marksheet.ipynb',\n",
       " 'Moducle Funcation Use.ipynb',\n",
       " 'module.py',\n",
       " 'My.txt',\n",
       " 'Names.json',\n",
       " 'nested_For_loop.ipynb',\n",
       " 'newfile',\n",
       " 'newfile.txt',\n",
       " 'newfiles.txt',\n",
       " 'nonExitFile',\n",
       " 'not.csv',\n",
       " 'Number.ipynb',\n",
       " 'numbers.ipynb',\n",
       " 'onew task perform list kae har rember ko ak ak dictionary assign ho jay.ipynb',\n",
       " 'ope.txt',\n",
       " 'OS Module.ipynb',\n",
       " 'partice.csv',\n",
       " 'Passing information back of them.ipynb',\n",
       " 'Pertice Variable , INSERT APPEND .ipynb',\n",
       " 'Phyton Funcation-Copy1.ipynb',\n",
       " 'Phyton Funcation.ipynb',\n",
       " 'PIAIC Official assignment 1 (1).ipynb',\n",
       " 'PIAIC Official assignment 1.ipynb',\n",
       " 'PIAIC-Assignment-1-URWA-NAFEES-.ipynb',\n",
       " 'pi_digits.txt',\n",
       " 'pop,tuples,for loops,clear fun,copy,append,slicing function,break,continue,Pass,etc.ipynb',\n",
       " 'POPPING Elements.ipynb',\n",
       " 'Practise Assignment 3 latest.ipynb',\n",
       " 'Sameer.json',\n",
       " 'SBSA21.ipynb',\n",
       " 'Slices.ipynb',\n",
       " 'slicing_tuple_forlop_dictionary.ipynb',\n",
       " 'Square.ipynb',\n",
       " 'String.ipynb',\n",
       " 'tempdir',\n",
       " 'testingDataFile.txt',\n",
       " 'try.csv',\n",
       " 'Untitled.ipynb',\n",
       " 'Untitled1.ipynb',\n",
       " 'Untitled10.ipynb',\n",
       " 'Untitled11.ipynb',\n",
       " 'Untitled12.ipynb',\n",
       " 'Untitled13.ipynb',\n",
       " 'Untitled14.ipynb',\n",
       " 'Untitled15.ipynb',\n",
       " 'Untitled16.ipynb',\n",
       " 'Untitled17.ipynb',\n",
       " 'Untitled18.ipynb',\n",
       " 'Untitled19.ipynb',\n",
       " 'Untitled2.ipynb',\n",
       " 'Untitled20.ipynb',\n",
       " 'Untitled21.ipynb',\n",
       " 'Untitled22.ipynb',\n",
       " 'Untitled23.ipynb',\n",
       " 'Untitled24.ipynb',\n",
       " 'Untitled25.ipynb',\n",
       " 'Untitled26.ipynb',\n",
       " 'Untitled27.ipynb',\n",
       " 'Untitled28.ipynb',\n",
       " 'Untitled29.ipynb',\n",
       " 'Untitled3.ipynb',\n",
       " 'Untitled30.ipynb',\n",
       " 'Untitled31.ipynb',\n",
       " 'Untitled32.ipynb',\n",
       " 'Untitled33.ipynb',\n",
       " 'Untitled34.ipynb',\n",
       " 'Untitled35.ipynb',\n",
       " 'Untitled36.ipynb',\n",
       " 'Untitled37.ipynb',\n",
       " 'Untitled38.ipynb',\n",
       " 'Untitled39.ipynb',\n",
       " 'Untitled4.ipynb',\n",
       " 'Untitled40.ipynb',\n",
       " 'Untitled41.ipynb',\n",
       " 'Untitled42.ipynb',\n",
       " 'Untitled43.ipynb',\n",
       " 'Untitled44.ipynb',\n",
       " 'Untitled5.ipynb',\n",
       " 'Untitled6.ipynb',\n",
       " 'Untitled7.ipynb',\n",
       " 'Untitled8.ipynb',\n",
       " 'Untitled9.ipynb',\n",
       " 'Variable OR String.ipynb',\n",
       " 'variable scope local and gobal.ipynb',\n",
       " 'video lectur classes.ipynb',\n",
       " 'Whatever.csv',\n",
       " 'while loop.ipynb',\n",
       " 'Zip funcation doo list ko same kar deta han.ipynb',\n",
       " '__pycache__']"
      ]
     },
     "execution_count": 18,
     "metadata": {},
     "output_type": "execute_result"
    }
   ],
   "source": [
    "os.listdir()"
   ]
  },
  {
   "cell_type": "code",
   "execution_count": 19,
   "metadata": {},
   "outputs": [],
   "source": [
    "#ya tu current working dictory ma jo files the wo ae han na ab ma chta ho kisi or kii check karo tu us kae liya path du ga"
   ]
  },
  {
   "cell_type": "code",
   "execution_count": 20,
   "metadata": {},
   "outputs": [
    {
     "data": {
      "text/plain": [
       "['aptech',\n",
       " 'bangles',\n",
       " 'earings',\n",
       " 'gallery.html',\n",
       " 'GRAFF ABC.html',\n",
       " 'HERITAGE.html',\n",
       " 'MAIN.js',\n",
       " 'necleces',\n",
       " 'rings',\n",
       " 'SEMI',\n",
       " 'Ssameer.html',\n",
       " 'tiffany and co..html',\n",
       " 'Untitled-1.css',\n",
       " 'Untitled-6.html']"
      ]
     },
     "execution_count": 20,
     "metadata": {},
     "output_type": "execute_result"
    }
   ],
   "source": [
    "os.listdir(r\"D:\\aptech\")#ya r skip karay ga apkae foward salash ko"
   ]
  },
  {
   "cell_type": "code",
   "execution_count": 21,
   "metadata": {},
   "outputs": [],
   "source": [
    "#ab ma chata ho kae mujha folder kae andr be jo folder han unki be file or us file kae andr jo file han wo be sub "
   ]
  },
  {
   "cell_type": "code",
   "execution_count": 22,
   "metadata": {},
   "outputs": [],
   "source": [
    "#is kae liya ma walk funcation use karo ga"
   ]
  },
  {
   "cell_type": "code",
   "execution_count": 5,
   "metadata": {},
   "outputs": [],
   "source": [
    "fileiter = os.walk(r\"D:\\aptech\")"
   ]
  },
  {
   "cell_type": "code",
   "execution_count": 6,
   "metadata": {},
   "outputs": [
    {
     "name": "stdout",
     "output_type": "stream",
     "text": [
      "current Path : D:\\aptech \n",
      "Folder name : ['aptech', 'bangles', 'earings', 'necleces', 'rings', 'SEMI'] \n",
      "File Path : ['gallery.html', 'GRAFF ABC.html', 'HERITAGE.html', 'MAIN.js', 'Ssameer.html', 'tiffany and co..html', 'Untitled-1.css', 'Untitled-6.html'] \n",
      "current Path : D:\\aptech\\aptech \n",
      "Folder name : ['bangles', 'earings', 'necleces', 'rings', 'SEMI'] \n",
      "File Path : ['COMPARE.html', 'gallery.html', 'MAIN.js', 'modelbox.html', 'Untitled-1.css', 'Untitled-6.html'] \n",
      "current Path : D:\\aptech\\aptech\\bangles \n",
      "Folder name : [] \n",
      "File Path : ['bang 26.jpg', 'BANG1.jpg', 'BANG10.jpg', 'BANG11.jpg', 'BANG12 (2).jpg', 'BANG12.jpg', 'BANG14.jpg', 'BANG15.jpg', 'bang16.jpg', 'bang17.jpg', 'bang19.jpg', 'BANG2.jpg', 'bang20.jpg', 'bang21.jpg', 'bang22.jpg', 'bang23.jpg', 'BANG3.jpg', 'BANG4.jpg', 'BANG6.jpg', 'BANG7.jpg', 'BANG8.jpg', 'BANG9.jpg', 'SB10.jpg', 'SB11.jpg', 'SB12.jpg', 'SB13.jpg', 'SB14.jpg', 'SB15.jpg', 'SB16.jpg', 'SB17.jpg', 'SB18.jpg', 'SB19.jpg', 'SB5.jpg', 'SB6.jpg', 'SB7.jpg', 'SB8.jpg', 'SB9.jpg'] \n",
      "current Path : D:\\aptech\\aptech\\earings \n",
      "Folder name : [] \n",
      "File Path : ['e10.jpg', 'e11.jpg', 'e12.jpg', 'e13.jpg', 'e14.jpg', 'e15.jpg', 'e16.jpg', 'e17.jpg', 'e18.jpg', 'e19.jpg', 'e20.jpg', 'e21.jpg', 'e22.jpg', 'e23.jpg', 'e24.jpg', 'e25.jpg', 'e26.jpg', 'e27.jpg', 'e28.jpg', 'e29.jpg', 'SE1.jpg', 'SE10.jpg', 'SE11.jpg', 'SE12.jpg', 'SE13.jpg', 'SE14.jpg', 'SE15.jpg', 'SE17.jpg', 'SE18.jpg', 'SE19.jpg', 'SE2.jpg', 'SE20.jpg', 'SE21.jpg', 'SE22.jpg', 'SE23.jpg', 'SE24.jpg', 'SE25.jpg', 'SE26.jpg', 'SE28.jpg', 'SE29.jpg', 'SE3.jpg', 'SE30.jpg', 'SE31.jpg', 'SE32.jpg', 'SE33.jpg', 'SE34.jpg', 'SE35.jpg', 'SE36.jpg', 'SE37.jpg', 'SE4.jpg', 'SE5.jpg', 'SE6.jpg', 'SE7.jpg', 'SE8.jpg', 'SE9.jpg'] \n",
      "current Path : D:\\aptech\\aptech\\necleces \n",
      "Folder name : [] \n",
      "File Path : ['AN1.jpg', 'AN10.jpg', 'AN100.jpg', 'AN12.jpg', 'AN13.jpg', 'AN14.jpg', 'AN15.jpg', 'AN16.jpg', 'AN17.jpg', 'AN18.jpg', 'AN19.jpg', 'AN2.jpg', 'AN20.jpg', 'AN3.jpg', 'AN4.jpg', 'AN5.jpg', 'AN6.jpg', 'AN7.jpg', 'AN8.jpg', 'AN9.jpg', 'download.jpg', 'N1.jpg', 'N10.jpg', 'N11.jpg', 'N12.jpg', 'N13.jpg', 'N14.jpg', 'N15.jpg', 'N16.jpg', 'N17.jpg', 'N18.jpg', 'N19.jpg', 'N2.jpg', 'N20.jpg', 'N22.jpg', 'N23.jpg', 'N24.jpg', 'N25.jpg', 'N3.jpg', 'N4.jpg', 'N5.jpg', 'N6.jpg', 'N7.jpg', 'N8.jpg', 'N9.jpg', 'NEC 1.jpg', 'NEC 10.jpg', 'NEC 13.jpg', 'NEC 14.jpg', 'NEC 15.jpg', 'NEC 16.jpg', 'NEC 17.jpg', 'NEC 18.jpg', 'NEC 2.jpg', 'NEC 22.jpg', 'NEC 23.jpg', 'NEC 24.jpg', 'NEC 25.jpg', 'NEC 26.jpg', 'nec 27.jpg', 'NEC 3.jpg', 'NEC 4.jpg', 'NEC 5.jpg', 'NEC 6.jpg', 'NEC 7.jpg', 'NEC 8.jpg', 'NEC 9.jpg', 'NEC LAST.jpg', 'nn.jpg', 'NNEC 20.jpg'] \n",
      "current Path : D:\\aptech\\aptech\\rings \n",
      "Folder name : [] \n",
      "File Path : ['ar1.jpg', 'ar10.jpg', 'ar2.jpg', 'ar3.jpg', 'ar4.jpg', 'ar5.jpg', 'ar6.jpg', 'ar8.jpg', 'ar9.jpg', 'L8849935096.jpg', 'logoR.png', 'New Maria Jewellers.jpg', 'online-artificial-jewellery-store-in-pakistan-logo-1456406808.jpg', 'pr1.jpg', 'pr10.jpg', 'pr2.jpg', 'pr3.jpg', 'pr4.jpg', 'pr5.jpg', 'pr6.jpg', 'pr7.jpg', 'pr8.jpg', 'pr9.jpg', 'SR10.jpg', 'SR11.jpg', 'SR12.jpg', 'SR13.jpg', 'SR14.jpg', 'SR15.jpg', 'SR16.jpg', 'SR17.jpg', 'SR18.jpg', 'SR19.jpg', 'SR20.jpg', 'SR21.jpg', 'SR22.jpg', 'SR23.jpg', 'SR24.jpg', 'SR25.jpg', 'SR6.jpg', 'SR7.jpg', 'SR8.jpg', 'SR9.jpg'] \n",
      "current Path : D:\\aptech\\aptech\\SEMI \n",
      "Folder name : [] \n",
      "File Path : ['download.jpg', 'N1.jpg', 'N10.jpg', 'N11.jpg', 'N12.jpg', 'N13.jpg', 'N14.jpg', 'N15.jpg', 'N16.jpg', 'N17.jpg', 'N18.jpg', 'N19.jpg', 'N2.jpg', 'N20.jpg', 'N22.jpg', 'N23.jpg', 'N24.jpg', 'N25.jpg', 'N26.jpg', 'N3.jpg', 'N4.jpg', 'N5.jpg', 'N6.jpg', 'N7.jpg', 'N8.jpg', 'N9.jpg', 'SB1.jpg', 'SB10.jpg', 'SB11.jpg', 'SB12.jpg', 'SB13.jpg', 'SB14.jpg', 'SB15.jpg', 'SB16.jpg', 'SB17.jpg', 'SB18.jpg', 'SB19.jpg', 'SB2.jpg', 'SB20.jpg', 'SB22.jpg', 'SB23.jpg', 'SB24.jpg', 'SB25.jpg', 'SB3.jpg', 'SB4.jpg', 'SB5.jpg', 'SB6.jpg', 'SB7.jpg', 'SB8.jpg', 'SB9.jpg', 'SE1.jpg', 'SE10.jpg', 'SE11.jpg', 'SE12.jpg', 'SE13.jpg', 'SE14.jpg', 'SE15.jpg', 'SE16.png', 'SE17.jpg', 'SE18.jpg', 'SE19.jpg', 'SE2.jpg', 'SE20.jpg', 'SE21.jpg', 'SE22.jpg', 'SE23.jpg', 'SE24.jpg', 'SE25.jpg', 'SE26.jpg', 'SE27.jpg', 'SE28.jpg', 'SE29.jpg', 'SE3.jpg', 'SE30.jpg', 'SE31.jpg', 'SE32.jpg', 'SE33.jpg', 'SE34.jpg', 'SE35.jpg', 'SE36.jpg', 'SE37.jpg', 'SE4.jpg', 'SE5.jpg', 'SE6.jpg', 'SE7.jpg', 'SE8.jpg', 'SE9.jpg', 'SEMI copy.png', 'SEMI.psd', 'SEMIE3.jpg', 'SR1.jpg', 'SR10.jpg', 'SR11.jpg', 'SR12.jpg', 'SR13.jpg', 'SR14.jpg', 'SR15.jpg', 'SR16.jpg', 'SR17.jpg', 'SR18.jpg', 'SR19.jpg', 'SR2.jpg', 'SR20.jpg', 'SR21.jpg', 'SR22.jpg', 'SR23.jpg', 'SR24.jpg', 'SR25.jpg', 'SR3.jpg', 'SR4.jpg', 'SR5.jpg', 'SR6.jpg', 'SR7.jpg', 'SR8.jpg', 'SR9.jpg'] \n",
      "current Path : D:\\aptech\\bangles \n",
      "Folder name : [] \n",
      "File Path : ['bang 26.jpg', 'BANG1.jpg', 'BANG10.jpg', 'BANG11.jpg', 'BANG12 (2).jpg', 'BANG12.jpg', 'BANG14.jpg', 'BANG15.jpg', 'bang16.jpg', 'bang17.jpg', 'BANG19 (1).jpg', 'bang19.jpg', 'BANG2.jpg', 'bang20.jpg', 'bang21.jpg', 'bang22.jpg', 'bang23.jpg', 'BANG3.jpg', 'BANG4.jpg', 'BANG6.jpg', 'BANG7.jpg', 'BANG8.jpg', 'BANG9.jpg', 'SB10.jpg', 'SB11.jpg', 'SB12.jpg', 'SB13.jpg', 'SB14.jpg', 'SB15.jpg', 'SB16.jpg', 'SB17.jpg', 'SB18.jpg', 'SB19.jpg', 'SB5.jpg', 'SB6.jpg', 'SB7.jpg', 'SB8.jpg', 'SB9.jpg'] \n",
      "current Path : D:\\aptech\\earings \n",
      "Folder name : [] \n",
      "File Path : ['e10.jpg', 'e11.jpg', 'e12.jpg', 'e13.jpg', 'e14.jpg', 'e15.jpg', 'e16.jpg', 'e17.jpg', 'e18.jpg', 'e19.jpg', 'e20.jpg', 'e21.jpg', 'e22.jpg', 'e23.jpg', 'e24.jpg', 'e25.jpg', 'e26.jpg', 'e27.jpg', 'e28.jpg', 'e29.jpg', 'SE1.jpg', 'SE10.jpg', 'SE11.jpg', 'SE12.jpg', 'SE13.jpg', 'SE14.jpg', 'SE15.jpg', 'SE17.jpg', 'SE18.jpg', 'SE19.jpg', 'SE2.jpg', 'SE20.jpg', 'SE21.jpg', 'SE22.jpg', 'SE23.jpg', 'SE24.jpg', 'SE25.jpg', 'SE26.jpg', 'SE28.jpg', 'SE29.jpg', 'SE3.jpg', 'SE30.jpg', 'SE31.jpg', 'SE32.jpg', 'SE33.jpg', 'SE34.jpg', 'SE35.jpg', 'SE36.jpg', 'SE37.jpg', 'SE4.jpg', 'SE5.jpg', 'SE6.jpg', 'SE7.jpg', 'SE8.jpg', 'SE9.jpg'] \n",
      "current Path : D:\\aptech\\necleces \n",
      "Folder name : [] \n",
      "File Path : ['AN1.jpg', 'AN10.jpg', 'AN100.jpg', 'AN12.jpg', 'AN13.jpg', 'AN14.jpg', 'AN15.jpg', 'AN16.jpg', 'AN17.jpg', 'AN18.jpg', 'AN19.jpg', 'AN2.jpg', 'AN20.jpg', 'AN3.jpg', 'AN4.jpg', 'AN5.jpg', 'AN6.jpg', 'AN7.jpg', 'AN8.jpg', 'AN9.jpg', 'download.jpg', 'N1.jpg', 'N10.jpg', 'N11.jpg', 'N12.jpg', 'N13.jpg', 'N14.jpg', 'N15.jpg', 'N16.jpg', 'N17.jpg', 'N18.jpg', 'N19.jpg', 'N2.jpg', 'N20.jpg', 'N22.jpg', 'N23.jpg', 'N24.jpg', 'N25.jpg', 'N3.jpg', 'N4.jpg', 'N5.jpg', 'N6.jpg', 'N7.jpg', 'N8.jpg', 'N9.jpg', 'NEC 1.jpg', 'NEC 10.jpg', 'NEC 13.jpg', 'NEC 14.jpg', 'NEC 15.jpg', 'NEC 16.jpg', 'NEC 17.jpg', 'NEC 18.jpg', 'NEC 2.jpg', 'NEC 22.jpg', 'NEC 23.jpg', 'NEC 24.jpg', 'NEC 25.jpg', 'NEC 26.jpg', 'nec 27.jpg', 'NEC 3.jpg', 'NEC 4.jpg', 'NEC 5.jpg', 'NEC 6.jpg', 'NEC 7.jpg', 'NEC 8.jpg', 'NEC 9.jpg', 'NEC LAST.jpg', 'nn.jpg', 'NNEC 20.jpg'] \n",
      "current Path : D:\\aptech\\rings \n",
      "Folder name : [] \n",
      "File Path : ['ar1.jpg', 'ar10.jpg', 'ar2.jpg', 'ar3.jpg', 'ar4.jpg', 'ar5.jpg', 'ar6.jpg', 'ar8.jpg', 'ar9.jpg', 'L8849935096.jpg', 'logoR.png', 'New Maria Jewellers.jpg', 'online-artificial-jewellery-store-in-pakistan-logo-1456406808.jpg', 'pr1.jpg', 'pr10.jpg', 'pr2.jpg', 'pr3.jpg', 'pr4.jpg', 'pr5.jpg', 'pr6.jpg', 'pr7.jpg', 'pr8.jpg', 'pr9.jpg', 'SR10.jpg', 'SR11.jpg', 'SR12.jpg', 'SR13.jpg', 'SR14.jpg', 'SR15.jpg', 'SR16.jpg', 'SR17.jpg', 'SR18.jpg', 'SR19.jpg', 'SR20.jpg', 'SR21.jpg', 'SR22.jpg', 'SR23.jpg', 'SR24.jpg', 'SR25.jpg', 'SR6.jpg', 'SR7.jpg', 'SR8.jpg', 'SR9.jpg'] \n",
      "current Path : D:\\aptech\\SEMI \n",
      "Folder name : [] \n",
      "File Path : ['download.jpg', 'N1.jpg', 'N10.jpg', 'N11.jpg', 'N12.jpg', 'N13.jpg', 'N14.jpg', 'N15.jpg', 'N16.jpg', 'N17.jpg', 'N18.jpg', 'N19.jpg', 'N2.jpg', 'N20.jpg', 'N22.jpg', 'N23.jpg', 'N24.jpg', 'N25.jpg', 'N26.jpg', 'N3.jpg', 'N4.jpg', 'N5.jpg', 'N6.jpg', 'N7.jpg', 'N8.jpg', 'N9.jpg', 'SB1.jpg', 'SB10.jpg', 'SB11.jpg', 'SB12.jpg', 'SB13.jpg', 'SB14.jpg', 'SB15.jpg', 'SB16.jpg', 'SB17.jpg', 'SB18.jpg', 'SB19.jpg', 'SB2.jpg', 'SB20.jpg', 'SB22.jpg', 'SB23.jpg', 'SB24.jpg', 'SB25.jpg', 'SB3.jpg', 'SB4.jpg', 'SB5.jpg', 'SB6.jpg', 'SB7.jpg', 'SB8.jpg', 'SB9.jpg', 'SE1.jpg', 'SE10.jpg', 'SE11.jpg', 'SE12.jpg', 'SE13.jpg', 'SE14.jpg', 'SE15.jpg', 'SE16.png', 'SE17.jpg', 'SE18.jpg', 'SE19.jpg', 'SE2.jpg', 'SE20.jpg', 'SE21.jpg', 'SE22.jpg', 'SE23.jpg', 'SE24.jpg', 'SE25.jpg', 'SE26.jpg', 'SE27.jpg', 'SE28.jpg', 'SE29.jpg', 'SE3.jpg', 'SE30.jpg', 'SE31.jpg', 'SE32.jpg', 'SE33.jpg', 'SE34.jpg', 'SE35.jpg', 'SE36.jpg', 'SE37.jpg', 'SE4.jpg', 'SE5.jpg', 'SE6.jpg', 'SE7.jpg', 'SE8.jpg', 'SE9.jpg', 'SEMI copy.png', 'SEMI.psd', 'SEMIE3.jpg', 'SR1.jpg', 'SR10.jpg', 'SR11.jpg', 'SR12.jpg', 'SR13.jpg', 'SR14.jpg', 'SR15.jpg', 'SR16.jpg', 'SR17.jpg', 'SR18.jpg', 'SR19.jpg', 'SR2.jpg', 'SR20.jpg', 'SR21.jpg', 'SR22.jpg', 'SR23.jpg', 'SR24.jpg', 'SR25.jpg', 'SR3.jpg', 'SR4.jpg', 'SR5.jpg', 'SR6.jpg', 'SR7.jpg', 'SR8.jpg', 'SR9.jpg'] \n"
     ]
    }
   ],
   "source": [
    "for current_path,folder_name,file_name in fileiter:#ya dekhyn is nai sub print kar deya kae file kae andr be kia tha folder kae andr kae andr be kai tha\n",
    "    print(f\"current Path : {current_path} \")#ak dafa jo loop chlay ga ya 3 chezzyn return karay ga \"current path\",\"folder name\",\"file name\"\n",
    "    print(f\"Folder name : {folder_name} \")\n",
    "    print(f\"File Path : {file_name} \")"
   ]
  },
  {
   "cell_type": "code",
   "execution_count": 4,
   "metadata": {},
   "outputs": [
    {
     "ename": "NameError",
     "evalue": "name 'fileiter' is not defined",
     "output_type": "error",
     "traceback": [
      "\u001b[1;31m---------------------------------------------------------------------------\u001b[0m",
      "\u001b[1;31mNameError\u001b[0m                                 Traceback (most recent call last)",
      "\u001b[1;32m<ipython-input-4-20bdd916de9e>\u001b[0m in \u001b[0;36m<module>\u001b[1;34m\u001b[0m\n\u001b[1;32m----> 1\u001b[1;33m \u001b[1;32mfor\u001b[0m \u001b[0mcurrent_path\u001b[0m\u001b[1;33m,\u001b[0m\u001b[0mfolder_name\u001b[0m\u001b[1;33m,\u001b[0m\u001b[0mfile_name\u001b[0m \u001b[1;32min\u001b[0m \u001b[0mfileiter\u001b[0m\u001b[1;33m:\u001b[0m\u001b[1;31m#ya dekhyn is nai sub print kar deya kae file kae andr be kia tha folder kae andr kae andr be kai tha\u001b[0m\u001b[1;33m\u001b[0m\u001b[1;33m\u001b[0m\u001b[0m\n\u001b[0m\u001b[0;32m      2\u001b[0m     \u001b[0mprint\u001b[0m\u001b[1;33m(\u001b[0m\u001b[1;34mf\"current Path : {current_path} \"\u001b[0m\u001b[1;33m)\u001b[0m\u001b[1;31m#ak dafa jo loop chlay ga ya 3 chezzyn return karay ga \"current path\",\"folder name\",\"file name\"\u001b[0m\u001b[1;33m\u001b[0m\u001b[1;33m\u001b[0m\u001b[0m\n\u001b[0;32m      3\u001b[0m     \u001b[0mprint\u001b[0m\u001b[1;33m(\u001b[0m\u001b[1;34mf\"Folder Name : {folder_name} \"\u001b[0m\u001b[1;33m)\u001b[0m\u001b[1;33m\u001b[0m\u001b[1;33m\u001b[0m\u001b[0m\n\u001b[0;32m      4\u001b[0m     \u001b[0mprint\u001b[0m\u001b[1;33m(\u001b[0m\u001b[1;34mf\"File name : {file_name} \"\u001b[0m\u001b[1;33m)\u001b[0m\u001b[1;33m\u001b[0m\u001b[1;33m\u001b[0m\u001b[0m\n",
      "\u001b[1;31mNameError\u001b[0m: name 'fileiter' is not defined"
     ]
    }
   ],
   "source": [
    "for current_path,folder_name,file_name in fileiter:#ya dekhyn is nai sub print kar deya kae file kae andr be kia tha folder kae andr kae andr be kai tha\n",
    "    print(f\"current Path : {current_path} \")#ak dafa jo loop chlay ga ya 3 chezzyn return karay ga \"current path\",\"folder name\",\"file name\"\n",
    "    print(f\"Folder Name : {folder_name} \")\n",
    "    print(f\"File name : {file_name} \")"
   ]
  },
  {
   "cell_type": "code",
   "execution_count": 7,
   "metadata": {},
   "outputs": [],
   "source": [
    "#agar mujh koe empty folder delet karna han tu phir yaad rakho empty folder he delet karay ga"
   ]
  },
  {
   "cell_type": "code",
   "execution_count": 10,
   "metadata": {},
   "outputs": [
    {
     "ename": "FileNotFoundError",
     "evalue": "[WinError 2] The system cannot find the file specified: 'NewFolder'",
     "output_type": "error",
     "traceback": [
      "\u001b[1;31m---------------------------------------------------------------------------\u001b[0m",
      "\u001b[1;31mFileNotFoundError\u001b[0m                         Traceback (most recent call last)",
      "\u001b[1;32m<ipython-input-10-4eb8b633de22>\u001b[0m in \u001b[0;36m<module>\u001b[1;34m\u001b[0m\n\u001b[1;32m----> 1\u001b[1;33m \u001b[0mos\u001b[0m\u001b[1;33m.\u001b[0m\u001b[0mrmdir\u001b[0m\u001b[1;33m(\u001b[0m\u001b[1;34m\"NewFolder\"\u001b[0m\u001b[1;33m)\u001b[0m\u001b[1;31m#ya folder han nhi abeh\u001b[0m\u001b[1;33m\u001b[0m\u001b[1;33m\u001b[0m\u001b[0m\n\u001b[0m",
      "\u001b[1;31mFileNotFoundError\u001b[0m: [WinError 2] The system cannot find the file specified: 'NewFolder'"
     ]
    }
   ],
   "source": [
    "os.rmdir(\"NewFolder\")#ya folder han nhi abeh "
   ]
  },
  {
   "cell_type": "code",
   "execution_count": 11,
   "metadata": {},
   "outputs": [],
   "source": [
    "#or mujha folder create karna han uskae andr ak or create karna han use kaeliya ma "
   ]
  },
  {
   "cell_type": "code",
   "execution_count": 15,
   "metadata": {},
   "outputs": [],
   "source": [
    "os.makedirs(r\"E:\\new\\songs\")"
   ]
  },
  {
   "cell_type": "code",
   "execution_count": 17,
   "metadata": {},
   "outputs": [],
   "source": [
    "import shutil#ya maina is liya import kara han kae parmentn delete kar day ga"
   ]
  },
  {
   "cell_type": "code",
   "execution_count": 21,
   "metadata": {},
   "outputs": [],
   "source": [
    "shutil.rmtree(\"E:\\\\new\")"
   ]
  },
  {
   "cell_type": "code",
   "execution_count": null,
   "metadata": {},
   "outputs": [],
   "source": []
  }
 ],
 "metadata": {
  "kernelspec": {
   "display_name": "Python 3",
   "language": "python",
   "name": "python3"
  },
  "language_info": {
   "codemirror_mode": {
    "name": "ipython",
    "version": 3
   },
   "file_extension": ".py",
   "mimetype": "text/x-python",
   "name": "python",
   "nbconvert_exporter": "python",
   "pygments_lexer": "ipython3",
   "version": "3.7.3"
  }
 },
 "nbformat": 4,
 "nbformat_minor": 2
}
