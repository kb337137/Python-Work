{
 "cells": [
  {
   "cell_type": "code",
   "execution_count": 1,
   "metadata": {},
   "outputs": [],
   "source": [
    "import os"
   ]
  },
  {
   "cell_type": "code",
   "execution_count": 3,
   "metadata": {},
   "outputs": [
    {
     "data": {
      "text/plain": [
       "'E:\\\\PIAIC MY WORK'"
      ]
     },
     "execution_count": 3,
     "metadata": {},
     "output_type": "execute_result"
    }
   ],
   "source": [
    "os.getcwd() #ya dekhyn cwd mtlb current working dictory ya batay ga kae mari file kaha han kaha ma kaam kar raha ho"
   ]
  },
  {
   "cell_type": "code",
   "execution_count": 4,
   "metadata": {},
   "outputs": [],
   "source": [
    "# ab mujha is dictory ma folder create karna han tu mujha \"os.mkdir\" funcation use karna hoga"
   ]
  },
  {
   "cell_type": "code",
   "execution_count": 7,
   "metadata": {},
   "outputs": [
    {
     "ename": "FileExistsError",
     "evalue": "[WinError 183] Cannot create a file when that file already exists: 'Sameer'",
     "output_type": "error",
     "traceback": [
      "\u001b[1;31m---------------------------------------------------------------------------\u001b[0m",
      "\u001b[1;31mFileExistsError\u001b[0m                           Traceback (most recent call last)",
      "\u001b[1;32m<ipython-input-7-9a7c32cc1e75>\u001b[0m in \u001b[0;36m<module>\u001b[1;34m\u001b[0m\n\u001b[1;32m----> 1\u001b[1;33m \u001b[0mos\u001b[0m\u001b[1;33m.\u001b[0m\u001b[0mmkdir\u001b[0m\u001b[1;33m(\u001b[0m\u001b[1;34m\"Sameer\"\u001b[0m\u001b[1;33m)\u001b[0m \u001b[1;31m# check karnay kae liya ke folder create ho gaya apnay current working dictory jo upper apnai function sa malom kare han waha folder create ho jay ga\u001b[0m\u001b[1;33m\u001b[0m\u001b[1;33m\u001b[0m\u001b[0m\n\u001b[0m",
      "\u001b[1;31mFileExistsError\u001b[0m: [WinError 183] Cannot create a file when that file already exists: 'Sameer'"
     ]
    }
   ],
   "source": [
    "os.mkdir(\"Sameer\") # check karnay kae liya ke folder create ho gaya apnay current working dictory jo upper apnai function sa malom kare han waha folder create ho jay ga "
   ]
  },
  {
   "cell_type": "code",
   "execution_count": 8,
   "metadata": {},
   "outputs": [],
   "source": [
    "# ab ya jo error han wo already create han mari dictory ma folder mujha ya check karnay kae liya ak funcation use karna ho ga \"os.path.exits\" or ya input ma path lay ga ya phir folder ka name"
   ]
  },
  {
   "cell_type": "code",
   "execution_count": 13,
   "metadata": {},
   "outputs": [
    {
     "data": {
      "text/plain": [
       "True"
      ]
     },
     "execution_count": 13,
     "metadata": {},
     "output_type": "execute_result"
    }
   ],
   "source": [
    "os.path.exists(\"Sameer\") # true mtlb folder han or false mtlb folder nhi han"
   ]
  },
  {
   "cell_type": "code",
   "execution_count": 14,
   "metadata": {},
   "outputs": [],
   "source": [
    "# ab hum nai agay say ya karna han professional tarika "
   ]
  },
  {
   "cell_type": "code",
   "execution_count": 18,
   "metadata": {},
   "outputs": [
    {
     "name": "stdout",
     "output_type": "stream",
     "text": [
      "None was created\n"
     ]
    }
   ],
   "source": [
    "if os.path.exists(\"Kha\"):\n",
    "    print(\"Yoyr Folder already Create :\")\n",
    "else:\n",
    "    print(os.mkdir(\"Kha\"),\"was created\" )"
   ]
  },
  {
   "cell_type": "code",
   "execution_count": 19,
   "metadata": {},
   "outputs": [
    {
     "data": {
      "text/plain": [
       "['.git',\n",
       " '.ipynb_checkpoints',\n",
       " 'abs,ceil,floor math.ipynb',\n",
       " 'args ,keywords_pochna_han_this_project_work_again_1_more_example.ipynb',\n",
       " 'Assignment3.ipynb',\n",
       " 'boys scout 2.ipynb',\n",
       " 'changing_case_in_a_string_Method.ipynb',\n",
       " 'CheckTHis.csv',\n",
       " 'Classes And Objects and inhertanc and data file .ipynb',\n",
       " 'Concatenating String.ipynb',\n",
       " 'connection to sql.ipynb',\n",
       " 'CSV.ipynb',\n",
       " 'custumer_dic.json',\n",
       " 'Data File Handling.ipynb',\n",
       " 'Data File.ipynb',\n",
       " 'datetime.ipynb',\n",
       " 'dictionary.ipynb',\n",
       " 'division.ipynb',\n",
       " 'Even Odd program.ipynb',\n",
       " 'Exception.ipynb',\n",
       " 'Extend KEyword.ipynb',\n",
       " 'Factorial Asan bohat important maths funcations.ipynb',\n",
       " 'Factorial Program.ipynb',\n",
       " 'Fibonacci series funcation.ipynb',\n",
       " 'file.txt',\n",
       " 'Filter Funcation.ipynb',\n",
       " 'First Assignment.ipynb',\n",
       " 'For Loop.ipynb',\n",
       " 'Fromating method.ipynb',\n",
       " 'Funcation Clearly Discuribe.ipynb',\n",
       " 'Funcation important code.ipynb',\n",
       " 'Funcation Within a Fucation.ipynb',\n",
       " 'IF Elif statement.ipynb',\n",
       " 'indexsing check.ipynb',\n",
       " 'input function.ipynb',\n",
       " 'iterator vs iterable.ipynb',\n",
       " 'java.txt',\n",
       " 'JOIN FUNCYION SPLIT FUCATION.ipynb',\n",
       " 'JSON.ipynb',\n",
       " 'Kha',\n",
       " 'Khan',\n",
       " 'Lambda Funcation.ipynb',\n",
       " 'list kae andr dictionary .ipynb',\n",
       " 'lists all funcation.ipynb',\n",
       " 'Login.ipynb',\n",
       " 'Map() Funcation,Filter funcation.ipynb',\n",
       " 'Marksheet.ipynb',\n",
       " 'Moducle Funcation Use.ipynb',\n",
       " 'Module attribute.ipynb',\n",
       " 'Module OS.ipynb',\n",
       " 'module.py',\n",
       " 'My.txt',\n",
       " 'Names.json',\n",
       " 'nested_For_loop.ipynb',\n",
       " 'newfile',\n",
       " 'newfile.txt',\n",
       " 'newfiles.txt',\n",
       " 'nonExitFile',\n",
       " 'not.csv',\n",
       " 'Number.ipynb',\n",
       " 'numbers.ipynb',\n",
       " 'onew task perform list kae har rember ko ak ak dictionary assign ho jay.ipynb',\n",
       " 'ope.txt',\n",
       " 'OS Module.ipynb',\n",
       " 'partice.csv',\n",
       " 'Passing information back of them.ipynb',\n",
       " 'Pertice Variable , INSERT APPEND .ipynb',\n",
       " 'Phyton Funcation-Copy1.ipynb',\n",
       " 'Phyton Funcation.ipynb',\n",
       " 'PIAIC Official assignment 1 (1).ipynb',\n",
       " 'PIAIC Official assignment 1.ipynb',\n",
       " 'PIAIC-Assignment-1-URWA-NAFEES-.ipynb',\n",
       " 'pi_digits.txt',\n",
       " 'pop,tuples,for loops,clear fun,copy,append,slicing function,break,continue,Pass,etc.ipynb',\n",
       " 'POPPING Elements.ipynb',\n",
       " 'Practise Assignment 3 latest.ipynb',\n",
       " 'Pythons Keywords.ipynb',\n",
       " 'Sameer',\n",
       " 'Sameer.json',\n",
       " 'SBSA21.ipynb',\n",
       " 'Slices.ipynb',\n",
       " 'slicing_tuple_forlop_dictionary.ipynb',\n",
       " 'split and join method.ipynb',\n",
       " 'Square.ipynb',\n",
       " 'String.ipynb',\n",
       " 'tempdir',\n",
       " 'testingDataFile.txt',\n",
       " 'tests.py',\n",
       " 'this.txt',\n",
       " 'try.csv',\n",
       " 'Untitled.ipynb',\n",
       " 'Untitled1.ipynb',\n",
       " 'Untitled10.ipynb',\n",
       " 'Untitled11.ipynb',\n",
       " 'Untitled12.ipynb',\n",
       " 'Untitled13.ipynb',\n",
       " 'Untitled14.ipynb',\n",
       " 'Untitled15.ipynb',\n",
       " 'Untitled16.ipynb',\n",
       " 'Untitled17.ipynb',\n",
       " 'Untitled18.ipynb',\n",
       " 'Untitled19.ipynb',\n",
       " 'Untitled2.ipynb',\n",
       " 'Untitled20.ipynb',\n",
       " 'Untitled21.ipynb',\n",
       " 'Untitled22.ipynb',\n",
       " 'Untitled23.ipynb',\n",
       " 'Untitled24.ipynb',\n",
       " 'Untitled25.ipynb',\n",
       " 'Untitled26.ipynb',\n",
       " 'Untitled27.ipynb',\n",
       " 'Untitled28.ipynb',\n",
       " 'Untitled29.ipynb',\n",
       " 'Untitled3.ipynb',\n",
       " 'Untitled30.ipynb',\n",
       " 'Untitled31.ipynb',\n",
       " 'Untitled32.ipynb',\n",
       " 'Untitled33.ipynb',\n",
       " 'Untitled34.ipynb',\n",
       " 'Untitled35.ipynb',\n",
       " 'Untitled36.ipynb',\n",
       " 'Untitled37.ipynb',\n",
       " 'Untitled38.ipynb',\n",
       " 'Untitled39.ipynb',\n",
       " 'Untitled4.ipynb',\n",
       " 'Untitled40.ipynb',\n",
       " 'Untitled41.ipynb',\n",
       " 'Untitled42.ipynb',\n",
       " 'Untitled43.ipynb',\n",
       " 'Untitled44.ipynb',\n",
       " 'Untitled45.ipynb',\n",
       " 'Untitled46.ipynb',\n",
       " 'Untitled47.ipynb',\n",
       " 'Untitled48.ipynb',\n",
       " 'Untitled49.ipynb',\n",
       " 'Untitled5.ipynb',\n",
       " 'Untitled50.ipynb',\n",
       " 'Untitled51.ipynb',\n",
       " 'Untitled52.ipynb',\n",
       " 'Untitled53.ipynb',\n",
       " 'Untitled54.ipynb',\n",
       " 'Untitled55.ipynb',\n",
       " 'Untitled56.ipynb',\n",
       " 'Untitled57.ipynb',\n",
       " 'Untitled58.ipynb',\n",
       " 'Untitled59.ipynb',\n",
       " 'Untitled6.ipynb',\n",
       " 'Untitled60.ipynb',\n",
       " 'Untitled61.ipynb',\n",
       " 'Untitled62.ipynb',\n",
       " 'Untitled63.ipynb',\n",
       " 'Untitled64.ipynb',\n",
       " 'Untitled65.ipynb',\n",
       " 'Untitled66.ipynb',\n",
       " 'Untitled7.ipynb',\n",
       " 'Untitled8.ipynb',\n",
       " 'Untitled9.ipynb',\n",
       " 'Variable OR String.ipynb',\n",
       " 'variable scope local and gobal.ipynb',\n",
       " 'video lectur classes.ipynb',\n",
       " 'Whatever.csv',\n",
       " 'while loop.ipynb',\n",
       " 'Zip funcation doo list ko same kar deta han.ipynb',\n",
       " '__pycache__']"
      ]
     },
     "execution_count": 19,
     "metadata": {},
     "output_type": "execute_result"
    }
   ],
   "source": [
    "os.listdir()"
   ]
  },
  {
   "cell_type": "code",
   "execution_count": 21,
   "metadata": {},
   "outputs": [
    {
     "ename": "FileExistsError",
     "evalue": "[WinError 183] Cannot create a file when that file already exists: 'D:\\\\links\\\\Sameer'",
     "output_type": "error",
     "traceback": [
      "\u001b[1;31m---------------------------------------------------------------------------\u001b[0m",
      "\u001b[1;31mFileExistsError\u001b[0m                           Traceback (most recent call last)",
      "\u001b[1;32m<ipython-input-21-9295bf17ca8f>\u001b[0m in \u001b[0;36m<module>\u001b[1;34m\u001b[0m\n\u001b[1;32m----> 1\u001b[1;33m \u001b[0mos\u001b[0m\u001b[1;33m.\u001b[0m\u001b[0mmkdir\u001b[0m\u001b[1;33m(\u001b[0m\u001b[1;34mr\"D:\\links\\Sameer\"\u001b[0m\u001b[1;33m)\u001b[0m \u001b[1;31m# is nai current working dictory ko chor kar folder create kara han\u001b[0m\u001b[1;33m\u001b[0m\u001b[1;33m\u001b[0m\u001b[0m\n\u001b[0m",
      "\u001b[1;31mFileExistsError\u001b[0m: [WinError 183] Cannot create a file when that file already exists: 'D:\\\\links\\\\Sameer'"
     ]
    }
   ],
   "source": [
    "os.mkdir(r\"D:\\links\\Sameer\") # is nai current working dictory ko chor kar folder create kara han"
   ]
  },
  {
   "cell_type": "code",
   "execution_count": 24,
   "metadata": {},
   "outputs": [
    {
     "data": {
      "text/plain": [
       "['ani.html',\n",
       " 'contact',\n",
       " 'Document.rtf',\n",
       " 'httpswww.youtube.comwatchv=Qe026vn1tbc&list=PLiOa6ike4WAHljIOitb3vR0nXQgneUedR&index=3',\n",
       " 'idman630build8.exe.fdmdownload',\n",
       " 'important code.txt',\n",
       " 'Important video',\n",
       " 'index.html',\n",
       " 'inportant',\n",
       " 'MEdia fir link',\n",
       " 'Module 3-A Nishanerah Computer Literacy',\n",
       " 'Module 3-B Nishanerha Computer Literacy',\n",
       " 'MY Folder',\n",
       " 'my web',\n",
       " 'New Text Document.txt',\n",
       " 'PatcherApplication.exe',\n",
       " 's.html',\n",
       " 'Sameer',\n",
       " 'Typing Instructor',\n",
       " 'wordpress',\n",
       " 'wordpress.rar']"
      ]
     },
     "execution_count": 24,
     "metadata": {},
     "output_type": "execute_result"
    }
   ],
   "source": [
    "os.listdir(\"D:\\links\") #ya is folder ma jo jo han sub print kar deya"
   ]
  },
  {
   "cell_type": "code",
   "execution_count": null,
   "metadata": {},
   "outputs": [],
   "source": []
  }
 ],
 "metadata": {
  "kernelspec": {
   "display_name": "Python 3",
   "language": "python",
   "name": "python3"
  },
  "language_info": {
   "codemirror_mode": {
    "name": "ipython",
    "version": 3
   },
   "file_extension": ".py",
   "mimetype": "text/x-python",
   "name": "python",
   "nbconvert_exporter": "python",
   "pygments_lexer": "ipython3",
   "version": "3.7.3"
  }
 },
 "nbformat": 4,
 "nbformat_minor": 2
}
