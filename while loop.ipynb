{
 "cells": [
  {
   "cell_type": "code",
   "execution_count": 12,
   "metadata": {},
   "outputs": [
    {
     "name": "stdout",
     "output_type": "stream",
     "text": [
      "['dog', 'cat', 'dog', 'goldfish', 'cat', 'rabbit', 'cat']\n"
     ]
    },
    {
     "data": {
      "text/plain": [
       "['dog', 'dog', 'goldfish', 'rabbit']"
      ]
     },
     "execution_count": 12,
     "metadata": {},
     "output_type": "execute_result"
    }
   ],
   "source": [
    "pets = ['dog', 'cat', 'dog', 'goldfish', 'cat', 'rabbit', 'cat']\n",
    "print(pets)\n",
    "while \"cat\" in pets:\n",
    "    pets.remove(\"cat\")\n",
    "    \n",
    "pets"
   ]
  },
  {
   "cell_type": "code",
   "execution_count": 1,
   "metadata": {
    "scrolled": true
   },
   "outputs": [
    {
     "name": "stdout",
     "output_type": "stream",
     "text": [
      "ENter any name : sa\n",
      "ENter any name : sa\n",
      "ENter any name : sa\n",
      "ENter any name : sa\n",
      "ENter any name : sa\n",
      "ENter any name : s\n",
      "ENter any name : as\n",
      "ENter any name : a\n",
      "ENter any name : sa\n",
      "ENter any name : s\n"
     ]
    }
   ],
   "source": [
    "a = 0\n",
    "while a < 10:#ya set kar deya 10 time input lay\n",
    "    user = input(\"ENter any name : \")\n",
    "    a += 1"
   ]
  },
  {
   "cell_type": "code",
   "execution_count": 10,
   "metadata": {},
   "outputs": [
    {
     "name": "stdout",
     "output_type": "stream",
     "text": [
      "ENter a name :sa\n",
      "ENter a name :sa\n",
      "ENter a name :as\n",
      "ENter a name :q\n"
     ]
    },
    {
     "data": {
      "text/plain": [
       "['sa', 'sa', 'as', 'q']"
      ]
     },
     "execution_count": 10,
     "metadata": {},
     "output_type": "execute_result"
    }
   ],
   "source": [
    "flag = True\n",
    "FavouriteFood = []\n",
    "while flag:\n",
    "    username = input(\"ENter a name :\")\n",
    "    if username == \"q\":\n",
    "        flag = False\n",
    "    FavouriteFood.append(username)\n",
    "        \n",
    "FavouriteFood"
   ]
  },
  {
   "cell_type": "code",
   "execution_count": 3,
   "metadata": {},
   "outputs": [
    {
     "name": "stdout",
     "output_type": "stream",
     "text": [
      "0\n",
      "1\n",
      "2\n",
      "3\n"
     ]
    }
   ],
   "source": [
    "i = 0\n",
    "while i <= 6:\n",
    "    print(i)\n",
    "    if i == 3:\n",
    "        break\n",
    "    i += 1"
   ]
  },
  {
   "cell_type": "code",
   "execution_count": 4,
   "metadata": {},
   "outputs": [
    {
     "name": "stdout",
     "output_type": "stream",
     "text": [
      "1\n",
      "2\n",
      "4\n",
      "5\n",
      "6\n",
      "7\n"
     ]
    }
   ],
   "source": [
    "i = 0\n",
    "while i <= 6:\n",
    "    i += 1\n",
    "    if i == 3:\n",
    "        continue\n",
    "    print(i)"
   ]
  },
  {
   "cell_type": "code",
   "execution_count": 5,
   "metadata": {},
   "outputs": [
    {
     "name": "stdout",
     "output_type": "stream",
     "text": [
      "Enter the name of a city: Great Falls\n",
      "It's one of the cleanest cities\n"
     ]
    }
   ],
   "source": [
    "cleanest_cities = [\"Cheyenne\", \"Santa Fe\", \"Tucson\",\"Great Falls\", \"Honolulu\"]\n",
    "city_to_check = input(\"Enter the name of a city: \")\n",
    "for a_clean_city in cleanest_cities:\n",
    "    if city_to_check == a_clean_city:\n",
    "        print(\"It's one of the cleanest cities\")\n",
    "        break"
   ]
  },
  {
   "cell_type": "code",
   "execution_count": 9,
   "metadata": {},
   "outputs": [
    {
     "name": "stdout",
     "output_type": "stream",
     "text": [
      "Enter a City or q to quit :sa\n",
      "Enter a City or q to quit :sa\n",
      "Enter a City or q to quit :sa\n",
      "Enter a City or q to quit :sa\n",
      "Enter a City or q to quit :sa\n",
      "Enter a City or q to quit :sa\n",
      "Enter a City or q to quit :sa\n",
      "Enter a City or q to quit :sa\n",
      "Enter a City or q to quit :sa\n",
      "Enter a City or q to quit :sa\n",
      "Enter a City or q to quit :sa\n",
      "Enter a City or q to quit :sa\n",
      "Enter a City or q to quit :sa\n",
      "Enter a City or q to quit :sa\n",
      "Enter a City or q to quit :sa\n",
      "Enter a City or q to quit :q\n"
     ]
    }
   ],
   "source": [
    "username = \"\"\n",
    "while username != \"q\":\n",
    "    username = input(\"Enter a City or q to quit :\")\n",
    "    if username != \"q\":\n",
    "        for a_clean_city in cleanest_cities:\n",
    "            if username == a_clean_city:\n",
    "                print(\"It's one of the cleanest cities\")\n",
    "                break"
   ]
  },
  {
   "cell_type": "code",
   "execution_count": 16,
   "metadata": {},
   "outputs": [],
   "source": [
    "def add():\n",
    "    global a\n",
    "    global b\n",
    "    a = 45\n",
    "    b = 45\n",
    "    c = a+b\n",
    "    return c "
   ]
  },
  {
   "cell_type": "code",
   "execution_count": 17,
   "metadata": {},
   "outputs": [
    {
     "data": {
      "text/plain": [
       "90"
      ]
     },
     "execution_count": 17,
     "metadata": {},
     "output_type": "execute_result"
    }
   ],
   "source": [
    "add()"
   ]
  },
  {
   "cell_type": "code",
   "execution_count": 18,
   "metadata": {},
   "outputs": [
    {
     "name": "stdout",
     "output_type": "stream",
     "text": [
      "45\n"
     ]
    }
   ],
   "source": [
    "print(a)"
   ]
  },
  {
   "cell_type": "code",
   "execution_count": 19,
   "metadata": {},
   "outputs": [],
   "source": [
    "a = 45"
   ]
  },
  {
   "cell_type": "code",
   "execution_count": 20,
   "metadata": {},
   "outputs": [
    {
     "data": {
      "text/plain": [
       "45"
      ]
     },
     "execution_count": 20,
     "metadata": {},
     "output_type": "execute_result"
    }
   ],
   "source": [
    "a"
   ]
  },
  {
   "cell_type": "code",
   "execution_count": 22,
   "metadata": {},
   "outputs": [
    {
     "name": "stdout",
     "output_type": "stream",
     "text": [
      "ENter a any wordsa\n",
      "ENter a any wordsa\n",
      "ENter a any wordsa\n",
      "ENter a any wordsa\n",
      "ENter a any wordsa\n",
      "ENter a any wordsa\n",
      "ENter a any wordsa\n",
      "ENter a any wordsa\n",
      "ENter a any wordsa\n",
      "ENter a any wordsa\n",
      "ENter a any wordsa\n",
      "ENter a any wordq\n",
      "['sa', 'sa', 'sa', 'sa', 'sa', 'sa', 'sa', 'sa', 'sa', 'sa', 'sa']\n"
     ]
    }
   ],
   "source": [
    "emplist = []\n",
    "flag = True\n",
    "while flag:\n",
    "    sa = input(\"ENter a any word\")\n",
    "    if sa == \"q\":\n",
    "        flag = False\n",
    "    else:\n",
    "        emplist.append(sa)\n",
    "print(emplist)"
   ]
  },
  {
   "cell_type": "code",
   "execution_count": 1,
   "metadata": {},
   "outputs": [],
   "source": [
    "cleanest_cities = [\"Karachi\",\"Blochi\",\"kon se city\",\"kasi se city\"]"
   ]
  },
  {
   "cell_type": "code",
   "execution_count": 4,
   "metadata": {},
   "outputs": [
    {
     "name": "stdout",
     "output_type": "stream",
     "text": [
      "enter a city and Q to quitsa\n",
      "enter a city and Q to quitsa\n",
      "enter a city and Q to quitsa\n",
      "enter a city and Q to quitsa\n",
      "enter a city and Q to quitsa\n",
      "enter a city and Q to quits\n",
      "enter a city and Q to quitas\n",
      "enter a city and Q to quita\n",
      "enter a city and Q to quits\n",
      "enter a city and Q to quit\n",
      "enter a city and Q to quita\n",
      "enter a city and Q to quit\n",
      "enter a city and Q to quitkarachi\n",
      "enter a city and Q to quitKarachi\n",
      "It's one of the cleanest cities\n",
      "enter a city and Q to quitq\n"
     ]
    }
   ],
   "source": [
    "user_input  = \"\"\n",
    "while user_input != \"q\":\n",
    "    user_input = input(\"enter a city and Q to quit\")\n",
    "    if user_input != \"q\":\n",
    "        for a_clean_city in cleanest_cities:\n",
    "            if user_input == a_clean_city:\n",
    "                print(\"It's one of the cleanest cities\")\n",
    "                break\n",
    "    "
   ]
  },
  {
   "cell_type": "code",
   "execution_count": 5,
   "metadata": {},
   "outputs": [
    {
     "name": "stdout",
     "output_type": "stream",
     "text": [
      "enter a city and Q to quitsa\n",
      "enter a city and Q to quitsa\n",
      "enter a city and Q to quitsa\n",
      "enter a city and Q to quitKarach\n",
      "enter a city and Q to quitKarachi\n",
      "It's one of the cleanest cities\n",
      "enter a city and Q to quitq\n"
     ]
    }
   ],
   "source": [
    "keep_looping = True\n",
    "while keep_looping == True:\n",
    "    user_input = input(\"enter a city and Q to quit\")\n",
    "    if user_input != \"q\":\n",
    "        for a_clean_city in cleanest_cities:\n",
    "            if user_input == a_clean_city:\n",
    "                print(\"It's one of the cleanest cities\")\n",
    "                break\n",
    "    else:\n",
    "        keep_looping = False"
   ]
  },
  {
   "cell_type": "code",
   "execution_count": 9,
   "metadata": {},
   "outputs": [
    {
     "ename": "TypeError",
     "evalue": "'type' object is not subscriptable",
     "output_type": "error",
     "traceback": [
      "\u001b[1;31m---------------------------------------------------------------------------\u001b[0m",
      "\u001b[1;31mTypeError\u001b[0m                                 Traceback (most recent call last)",
      "\u001b[1;32m<ipython-input-9-6d5eeb0dcb76>\u001b[0m in \u001b[0;36m<module>\u001b[1;34m\u001b[0m\n\u001b[1;32m----> 1\u001b[1;33m \u001b[0mException\u001b[0m\u001b[1;33m[\u001b[0m\u001b[1;36m4\u001b[0m\u001b[1;33m]\u001b[0m\u001b[1;33m\u001b[0m\u001b[1;33m\u001b[0m\u001b[0m\n\u001b[0m",
      "\u001b[1;31mTypeError\u001b[0m: 'type' object is not subscriptable"
     ]
    }
   ],
   "source": [
    "Exception[4]"
   ]
  },
  {
   "cell_type": "code",
   "execution_count": 10,
   "metadata": {},
   "outputs": [],
   "source": [
    "class Student():\n",
    "    def __init__(self,lastname,fistname,age):\n",
    "        self.firstname = fistname\n",
    "        self.lastname = lastname\n",
    "        self.age = age"
   ]
  },
  {
   "cell_type": "code",
   "execution_count": 12,
   "metadata": {},
   "outputs": [],
   "source": [
    "obj1 = Student(\"ABdillah\",\"khan\",45)"
   ]
  },
  {
   "cell_type": "code",
   "execution_count": 13,
   "metadata": {},
   "outputs": [
    {
     "data": {
      "text/plain": [
       "'khan'"
      ]
     },
     "execution_count": 13,
     "metadata": {},
     "output_type": "execute_result"
    }
   ],
   "source": [
    "obj1.firstname"
   ]
  },
  {
   "cell_type": "code",
   "execution_count": null,
   "metadata": {},
   "outputs": [],
   "source": []
  }
 ],
 "metadata": {
  "kernelspec": {
   "display_name": "Python 3",
   "language": "python",
   "name": "python3"
  },
  "language_info": {
   "codemirror_mode": {
    "name": "ipython",
    "version": 3
   },
   "file_extension": ".py",
   "mimetype": "text/x-python",
   "name": "python",
   "nbconvert_exporter": "python",
   "pygments_lexer": "ipython3",
   "version": "3.7.3"
  }
 },
 "nbformat": 4,
 "nbformat_minor": 2
}
