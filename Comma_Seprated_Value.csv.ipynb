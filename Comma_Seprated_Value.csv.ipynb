{
 "cells": [
  {
   "cell_type": "code",
   "execution_count": 11,
   "metadata": {},
   "outputs": [],
   "source": [
    "import csv"
   ]
  },
  {
   "cell_type": "code",
   "execution_count": 16,
   "metadata": {},
   "outputs": [
    {
     "name": "stdout",
     "output_type": "stream",
     "text": [
      "['Khan', 'Abdullah', 'Uni', 'Abdullah', 'khan', 'Sameer', 'Sameer', 'Abdullah', 'Uni', 'Abdu', 'khan', 'Sameer']\n"
     ]
    }
   ],
   "source": [
    "with open(\"Comma.csv\",\"r\")as file:\n",
    "    sam = csv.reader(file)\n",
    "    emplist = []\n",
    "    for cont in sam:\n",
    "        emplist += cont\n",
    "    print(emplist)"
   ]
  },
  {
   "cell_type": "code",
   "execution_count": 13,
   "metadata": {},
   "outputs": [
    {
     "data": {
      "text/plain": [
       "'Khan'"
      ]
     },
     "execution_count": 13,
     "metadata": {},
     "output_type": "execute_result"
    }
   ],
   "source": [
    "emplist[0]"
   ]
  },
  {
   "cell_type": "code",
   "execution_count": 14,
   "metadata": {},
   "outputs": [],
   "source": [
    "with open(\"Comma.csv\",\"w\",newline=\"\")as file:\n",
    "    content = csv.writer(file, delimiter=\",\")\n",
    "    content.writerow([\"Khan\",\"Abdullah\",\"Uni\"])\n",
    "    content.writerow([\"Abdullah\",\"khan\",\"Sameer\"])"
   ]
  },
  {
   "cell_type": "code",
   "execution_count": 15,
   "metadata": {},
   "outputs": [],
   "source": [
    "with open(\"Comma.csv\",\"a\",newline=\"\")as file:\n",
    "    content = csv.writer(file, delimiter=\",\")\n",
    "    content.writerow([\"Sameer\",\"Abdullah\",\"Uni\"])\n",
    "    content.writerow([\"Abdu\",\"khan\",\"Sameer\"])"
   ]
  },
  {
   "cell_type": "code",
   "execution_count": 17,
   "metadata": {},
   "outputs": [],
   "source": [
    "with open(\"Today.csv\",\"w\",newline=\"\")as file:\n",
    "    contnt = csv.writer(file,delimiter=\",\")\n",
    "    contnt.writerow([\"Sameer\",\"Khan\",\"Bhai\"])"
   ]
  },
  {
   "cell_type": "code",
   "execution_count": 18,
   "metadata": {},
   "outputs": [
    {
     "name": "stdout",
     "output_type": "stream",
     "text": [
      "['Sameer', 'Khan', 'Bhai']\n"
     ]
    }
   ],
   "source": [
    "with open(\"Today.csv\",\"r\")as file:\n",
    "    contnet = csv.reader(file)\n",
    "    for i in contnet:\n",
    "        print(i)"
   ]
  },
  {
   "cell_type": "code",
   "execution_count": null,
   "metadata": {},
   "outputs": [],
   "source": []
  }
 ],
 "metadata": {
  "kernelspec": {
   "display_name": "Python 3",
   "language": "python",
   "name": "python3"
  },
  "language_info": {
   "codemirror_mode": {
    "name": "ipython",
    "version": 3
   },
   "file_extension": ".py",
   "mimetype": "text/x-python",
   "name": "python",
   "nbconvert_exporter": "python",
   "pygments_lexer": "ipython3",
   "version": "3.7.3"
  }
 },
 "nbformat": 4,
 "nbformat_minor": 2
}
