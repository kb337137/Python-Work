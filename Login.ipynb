{
 "cells": [
  {
   "cell_type": "code",
   "execution_count": 38,
   "metadata": {},
   "outputs": [
    {
     "name": "stdout",
     "output_type": "stream",
     "text": [
      "1\n",
      "3\n",
      "5\n",
      "7\n",
      "9\n"
     ]
    }
   ],
   "source": [
    "a = 0\n",
    "while a < 10:\n",
    "    a += 1\n",
    "    if a % 2 != 0:\n",
    "        print(\"{0}\".format(a))\n",
    "    "
   ]
  },
  {
   "cell_type": "code",
   "execution_count": 49,
   "metadata": {},
   "outputs": [
    {
     "name": "stdout",
     "output_type": "stream",
     "text": [
      "Enter The Username :Sameer\n",
      "Enter the Password :123\n",
      "Invalid Password\n"
     ]
    }
   ],
   "source": [
    "username = str(input(\"Enter The Username :\"))\n",
    "password = int(input(\"Enter the Password :\"))\n",
    "\n",
    "if (username == \"Sameer\") and (password == 57269):\n",
    "    print(\"Login Succesfully .....\")\n",
    "else:\n",
    "    if username != \"Sameer\":\n",
    "        print(\"Invalid Username\")\n",
    "    elif password != \"57269\":\n",
    "        print(\"Invalid Password\")"
   ]
  },
  {
   "cell_type": "code",
   "execution_count": null,
   "metadata": {},
   "outputs": [],
   "source": []
  }
 ],
 "metadata": {
  "kernelspec": {
   "display_name": "Python 3",
   "language": "python",
   "name": "python3"
  },
  "language_info": {
   "codemirror_mode": {
    "name": "ipython",
    "version": 3
   },
   "file_extension": ".py",
   "mimetype": "text/x-python",
   "name": "python",
   "nbconvert_exporter": "python",
   "pygments_lexer": "ipython3",
   "version": "3.7.3"
  }
 },
 "nbformat": 4,
 "nbformat_minor": 2
}
